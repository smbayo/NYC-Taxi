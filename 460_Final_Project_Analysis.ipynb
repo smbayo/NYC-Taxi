{
  "nbformat": 4,
  "nbformat_minor": 0,
  "metadata": {
    "colab": {
      "name": "460 - Final Project Analysis.ipynb",
      "provenance": [],
      "collapsed_sections": [],
      "include_colab_link": true
    },
    "kernelspec": {
      "name": "python3",
      "display_name": "Python 3"
    }
  },
  "cells": [
    {
      "cell_type": "markdown",
      "metadata": {
        "id": "view-in-github",
        "colab_type": "text"
      },
      "source": [
        "<a href=\"https://colab.research.google.com/github/stephen-lin-0/NYC-Taxi/blob/master/460_Final_Project_Analysis.ipynb\" target=\"_parent\"><img src=\"https://colab.research.google.com/assets/colab-badge.svg\" alt=\"Open In Colab\"/></a>"
      ]
    },
    {
      "cell_type": "markdown",
      "metadata": {
        "id": "_kt_8YSo0VDS",
        "colab_type": "text"
      },
      "source": [
        "# 1. Data Import"
      ]
    },
    {
      "cell_type": "markdown",
      "metadata": {
        "id": "6zJIoVhP3ZSz",
        "colab_type": "text"
      },
      "source": [
        "This notebook and enviroment is completely hosted on the cloud, and downloads the required files to your Google Drive.  To replicate this analysis:\n",
        "\n",
        "1.   Make a copy of this Notebook to your Drive, and work in the new copy.\n",
        "2.   Enter this competition https://www.kaggle.com/c/nyc-taxi-trip-duration/data by clicking on Late Submission.\n",
        "3.   Download your Kaggle API token by going to My Account -> Create New API Token\n"
      ]
    },
    {
      "cell_type": "code",
      "metadata": {
        "id": "jUxME2Re0X3Y",
        "colab_type": "code",
        "colab": {
          "resources": {
            "http://localhost:8080/nbextensions/google.colab/files.js": {
              "data": "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",
              "ok": true,
              "headers": [
                [
                  "content-type",
                  "application/javascript"
                ]
              ],
              "status": 200,
              "status_text": ""
            }
          },
          "base_uri": "https://localhost:8080/",
          "height": 482
        },
        "outputId": "d54556da-c29c-46fa-ba39-5e4d7b7b1941"
      },
      "source": [
        "! pip install -q kaggle\n",
        "\n",
        "# Choose the kaggle.json file that you downloaded\n",
        "from google.colab import files\n",
        "files.upload()\n",
        "\n",
        "# Make directory named kaggle and copy kaggle.json file there.\n",
        "! mkdir ~/.kaggle\n",
        "! cp kaggle.json ~/.kaggle/\n",
        "\n",
        "# Change the permissions of the file.\n",
        "! chmod 600 ~/.kaggle/kaggle.json\n",
        "\n",
        "# Check on data\n",
        "! kaggle datasets list\n"
      ],
      "execution_count": 1,
      "outputs": [
        {
          "output_type": "display_data",
          "data": {
            "text/html": [
              "\n",
              "     <input type=\"file\" id=\"files-61b6857f-1cab-4652-9e50-c8fe6faa10d8\" name=\"files[]\" multiple disabled />\n",
              "     <output id=\"result-61b6857f-1cab-4652-9e50-c8fe6faa10d8\">\n",
              "      Upload widget is only available when the cell has been executed in the\n",
              "      current browser session. Please rerun this cell to enable.\n",
              "      </output>\n",
              "      <script src=\"/nbextensions/google.colab/files.js\"></script> "
            ],
            "text/plain": [
              "<IPython.core.display.HTML object>"
            ]
          },
          "metadata": {
            "tags": []
          }
        },
        {
          "output_type": "stream",
          "text": [
            "Saving kaggle.json to kaggle.json\n",
            "Warning: Looks like you're using an outdated API Version, please consider updating (server 1.5.6 / client 1.5.4)\n",
            "ref                                                         title                                                size  lastUpdated          downloadCount  \n",
            "----------------------------------------------------------  --------------------------------------------------  -----  -------------------  -------------  \n",
            "kimjihoo/coronavirusdataset                                 Coronavirus-Dataset                                  32KB  2020-03-13 13:48:11          12377  \n",
            "sudalairajkumar/novel-corona-virus-2019-dataset             Novel Corona Virus 2019 Dataset                     348KB  2020-03-12 10:57:12          39544  \n",
            "rupals/gpu-runtime                                          Segmentation on GPU Kernel Performance Dataset        4MB  2020-03-01 10:04:27            166  \n",
            "paultimothymooney/coronavirus-genome-sequence               Coronavirus Genome Sequence                           9MB  2020-02-29 00:25:13            163  \n",
            "imdevskp/sars-outbreak-2003-complete-dataset                SARS 2003 Outbreak Complete Dataset                  10KB  2020-02-26 10:25:22           1058  \n",
            "paultimothymooney/repository-of-coronavirus-genomes         Repository of Coronavirus Genomes                    37MB  2020-03-03 02:01:34             77  \n",
            "umangjpatel/pap-smear-datasets                              Pap Smear Datasets                                    6GB  2020-03-07 11:04:23            139  \n",
            "imdevskp/ebola-outbreak-20142016-complete-dataset           Ebola 2014-2016 Outbreak Complete Dataset           101KB  2020-02-26 14:36:31           1079  \n",
            "prakrutchauhan/indian-candidates-for-general-election-2019  Indian Candidates for General Election 2019         133KB  2020-03-03 07:01:53            696  \n",
            "brunotly/foreign-exchange-rates-per-dollar-20002019         Foreign Exchange Rates 2000-2019                      1MB  2020-03-03 17:43:07           1004  \n",
            "shivamb/real-or-fake-fake-jobposting-prediction             [Real or Fake] Fake JobPosting Prediction            16MB  2020-02-29 08:23:34           1316  \n",
            "shank885/knife-dataset                                      Knife Dataset                                         1MB  2020-03-02 06:43:53            238  \n",
            "gpiosenka/100-bird-species                                  140 Bird Species                                    828MB  2020-03-11 23:44:39            553  \n",
            "jessemostipak/hotel-booking-demand                          Hotel booking demand                                  1MB  2020-02-13 01:27:20           8099  \n",
            "tunguz/big-five-personality-test                            Big Five Personality Test                           159MB  2020-02-17 15:59:37           2451  \n",
            "arindam235/startup-investments-crunchbase                   StartUp Investments (Crunchbase)                      3MB  2020-02-17 21:54:42           1907  \n",
            "brendaso/2019-coronavirus-dataset-01212020-01262020         2019 Coronavirus dataset (January - February 2020)   53KB  2020-02-06 18:09:28           8176  \n",
            "jamzing/sars-coronavirus-accession                          SARS CORONAVIRUS ACCESSION                            2MB  2020-02-18 15:49:34           2181  \n",
            "timoboz/data-science-cheat-sheets                           Data Science Cheat Sheets                           596MB  2020-02-04 19:42:27           4248  \n",
            "brandenciranni/democratic-debate-transcripts-2020           Democratic Debate Transcripts 2020                  565KB  2020-02-27 00:07:40            591  \n"
          ],
          "name": "stdout"
        }
      ]
    },
    {
      "cell_type": "code",
      "metadata": {
        "id": "UxfuowHE0z_9",
        "colab_type": "code",
        "outputId": "867b8565-09c8-4607-dad7-33a7c012b9db",
        "colab": {
          "base_uri": "https://localhost:8080/",
          "height": 207
        }
      },
      "source": [
        "# download the Kaggle data to the remote machine\n",
        "!kaggle competitions download -c nyc-taxi-trip-duration"
      ],
      "execution_count": 2,
      "outputs": [
        {
          "output_type": "stream",
          "text": [
            "Warning: Looks like you're using an outdated API Version, please consider updating (server 1.5.6 / client 1.5.4)\n",
            "Downloading test.zip to /content\n",
            "\r  0% 0.00/20.3M [00:00<?, ?B/s]\r 25% 5.00M/20.3M [00:00<00:00, 35.8MB/s]\n",
            "100% 20.3M/20.3M [00:00<00:00, 80.5MB/s]\n",
            "Downloading sample_submission.zip to /content\n",
            "  0% 0.00/2.49M [00:00<?, ?B/s]\n",
            "100% 2.49M/2.49M [00:00<00:00, 170MB/s]\n",
            "Downloading train.zip to /content\n",
            " 70% 44.0M/62.9M [00:00<00:00, 100MB/s] \n",
            "100% 62.9M/62.9M [00:00<00:00, 142MB/s]\n"
          ],
          "name": "stdout"
        }
      ]
    },
    {
      "cell_type": "code",
      "metadata": {
        "id": "4OTRlkdS3LoW",
        "colab_type": "code",
        "colab": {
          "base_uri": "https://localhost:8080/",
          "height": 34
        },
        "outputId": "373e1b08-8857-40c7-c689-7c7dc13f94ae"
      },
      "source": [
        "import pandas as pd\n",
        "import os\n",
        "import numpy as np\n",
        "import matplotlib.pyplot as plt\n",
        "import seaborn as sns\n",
        "from sklearn import decomposition\n",
        "from scipy import stats\n",
        "from sklearn import cluster\n",
        "from sklearn.neighbors import KNeighborsClassifier\n",
        "% matplotlib inline\n",
        "# check current working directory for file traversal\n",
        "print(os.getcwd())"
      ],
      "execution_count": 3,
      "outputs": [
        {
          "output_type": "stream",
          "text": [
            "/content\n"
          ],
          "name": "stdout"
        }
      ]
    },
    {
      "cell_type": "code",
      "metadata": {
        "id": "8vCgjeZE2eRd",
        "colab_type": "code",
        "colab": {}
      },
      "source": [
        "#unzip the training files\n",
        "!unzip -qq /content/train.zip -d /content/ "
      ],
      "execution_count": 0,
      "outputs": []
    },
    {
      "cell_type": "code",
      "metadata": {
        "id": "ouhg_8KW23iE",
        "colab_type": "code",
        "colab": {}
      },
      "source": [
        "#unzip the test files\n",
        "!unzip -qq /content/test.zip -d /content/ "
      ],
      "execution_count": 0,
      "outputs": []
    },
    {
      "cell_type": "markdown",
      "metadata": {
        "id": "UbYclIpgH6i4",
        "colab_type": "text"
      },
      "source": [
        "# 2. Data Exploration"
      ]
    },
    {
      "cell_type": "code",
      "metadata": {
        "id": "U_IYSBsJ3P2t",
        "colab_type": "code",
        "colab": {}
      },
      "source": [
        "df_taxi = pd.read_csv(\"train.csv\")"
      ],
      "execution_count": 0,
      "outputs": []
    },
    {
      "cell_type": "code",
      "metadata": {
        "id": "ek_ewRiT4M7S",
        "colab_type": "code",
        "colab": {
          "base_uri": "https://localhost:8080/",
          "height": 309
        },
        "outputId": "0ac93cd2-7111-4a0b-ad07-5f76135d4341"
      },
      "source": [
        "df_taxi.head()"
      ],
      "execution_count": 7,
      "outputs": [
        {
          "output_type": "execute_result",
          "data": {
            "text/html": [
              "<div>\n",
              "<style scoped>\n",
              "    .dataframe tbody tr th:only-of-type {\n",
              "        vertical-align: middle;\n",
              "    }\n",
              "\n",
              "    .dataframe tbody tr th {\n",
              "        vertical-align: top;\n",
              "    }\n",
              "\n",
              "    .dataframe thead th {\n",
              "        text-align: right;\n",
              "    }\n",
              "</style>\n",
              "<table border=\"1\" class=\"dataframe\">\n",
              "  <thead>\n",
              "    <tr style=\"text-align: right;\">\n",
              "      <th></th>\n",
              "      <th>id</th>\n",
              "      <th>vendor_id</th>\n",
              "      <th>pickup_datetime</th>\n",
              "      <th>dropoff_datetime</th>\n",
              "      <th>passenger_count</th>\n",
              "      <th>pickup_longitude</th>\n",
              "      <th>pickup_latitude</th>\n",
              "      <th>dropoff_longitude</th>\n",
              "      <th>dropoff_latitude</th>\n",
              "      <th>store_and_fwd_flag</th>\n",
              "      <th>trip_duration</th>\n",
              "    </tr>\n",
              "  </thead>\n",
              "  <tbody>\n",
              "    <tr>\n",
              "      <th>0</th>\n",
              "      <td>id2875421</td>\n",
              "      <td>2</td>\n",
              "      <td>2016-03-14 17:24:55</td>\n",
              "      <td>2016-03-14 17:32:30</td>\n",
              "      <td>1</td>\n",
              "      <td>-73.982155</td>\n",
              "      <td>40.767937</td>\n",
              "      <td>-73.964630</td>\n",
              "      <td>40.765602</td>\n",
              "      <td>N</td>\n",
              "      <td>455</td>\n",
              "    </tr>\n",
              "    <tr>\n",
              "      <th>1</th>\n",
              "      <td>id2377394</td>\n",
              "      <td>1</td>\n",
              "      <td>2016-06-12 00:43:35</td>\n",
              "      <td>2016-06-12 00:54:38</td>\n",
              "      <td>1</td>\n",
              "      <td>-73.980415</td>\n",
              "      <td>40.738564</td>\n",
              "      <td>-73.999481</td>\n",
              "      <td>40.731152</td>\n",
              "      <td>N</td>\n",
              "      <td>663</td>\n",
              "    </tr>\n",
              "    <tr>\n",
              "      <th>2</th>\n",
              "      <td>id3858529</td>\n",
              "      <td>2</td>\n",
              "      <td>2016-01-19 11:35:24</td>\n",
              "      <td>2016-01-19 12:10:48</td>\n",
              "      <td>1</td>\n",
              "      <td>-73.979027</td>\n",
              "      <td>40.763939</td>\n",
              "      <td>-74.005333</td>\n",
              "      <td>40.710087</td>\n",
              "      <td>N</td>\n",
              "      <td>2124</td>\n",
              "    </tr>\n",
              "    <tr>\n",
              "      <th>3</th>\n",
              "      <td>id3504673</td>\n",
              "      <td>2</td>\n",
              "      <td>2016-04-06 19:32:31</td>\n",
              "      <td>2016-04-06 19:39:40</td>\n",
              "      <td>1</td>\n",
              "      <td>-74.010040</td>\n",
              "      <td>40.719971</td>\n",
              "      <td>-74.012268</td>\n",
              "      <td>40.706718</td>\n",
              "      <td>N</td>\n",
              "      <td>429</td>\n",
              "    </tr>\n",
              "    <tr>\n",
              "      <th>4</th>\n",
              "      <td>id2181028</td>\n",
              "      <td>2</td>\n",
              "      <td>2016-03-26 13:30:55</td>\n",
              "      <td>2016-03-26 13:38:10</td>\n",
              "      <td>1</td>\n",
              "      <td>-73.973053</td>\n",
              "      <td>40.793209</td>\n",
              "      <td>-73.972923</td>\n",
              "      <td>40.782520</td>\n",
              "      <td>N</td>\n",
              "      <td>435</td>\n",
              "    </tr>\n",
              "  </tbody>\n",
              "</table>\n",
              "</div>"
            ],
            "text/plain": [
              "          id  vendor_id  ... store_and_fwd_flag trip_duration\n",
              "0  id2875421          2  ...                  N           455\n",
              "1  id2377394          1  ...                  N           663\n",
              "2  id3858529          2  ...                  N          2124\n",
              "3  id3504673          2  ...                  N           429\n",
              "4  id2181028          2  ...                  N           435\n",
              "\n",
              "[5 rows x 11 columns]"
            ]
          },
          "metadata": {
            "tags": []
          },
          "execution_count": 7
        }
      ]
    },
    {
      "cell_type": "markdown",
      "metadata": {
        "id": "31PLMI7YAitG",
        "colab_type": "text"
      },
      "source": [
        "Dictionary\n",
        "\n",
        "\n",
        "*   id - a unique identifier for each trip\n",
        "*   pickup_datetime - date and time when the meter was engaged\n",
        "*   pickup_datetime - date and time when the meter was engaged\n",
        "*   dropoff_datetime - date and time when the meter was disengaged\n",
        "*   passenger_count - the number of passengers in the vehicle (driver entered value)\n",
        "*   pickup_longitude - the longitude where the meter was engaged\n",
        "*   pickup_latitude - the latitude where the meter was engaged\n",
        "*   dropoff_longitude - the longitude where the meter was disengaged\n",
        "*   dropoff_latitude - the latitude where the meter was disengaged\n",
        "*   store_and_fwd_flag - This flag indicates whether the trip record was held in vehicle memory before sending to the vendor because the vehicle did not have a connection to the server - Y=store and forward; N=not a store and forward trip\n",
        "*   trip_duration - duration of the trip in seconds"
      ]
    },
    {
      "cell_type": "markdown",
      "metadata": {
        "id": "bC6slg8qP7BD",
        "colab_type": "text"
      },
      "source": [
        "## 2.1 Data Cleaning"
      ]
    },
    {
      "cell_type": "code",
      "metadata": {
        "id": "zUE_R97OArYF",
        "colab_type": "code",
        "colab": {
          "base_uri": "https://localhost:8080/",
          "height": 309
        },
        "outputId": "fbf39c6f-fc7c-4d2a-ff1b-05abbf1206bf"
      },
      "source": [
        "df_taxi['pickup_datetime']=pd.to_datetime(df_taxi['pickup_datetime'],errors='coerce')\n",
        "df_taxi['trip_duration_minutes'] = pd.to_datetime(df_taxi.trip_duration, unit='s').dt.strftime('%M:%S')\n",
        "df_taxi.head()"
      ],
      "execution_count": 8,
      "outputs": [
        {
          "output_type": "execute_result",
          "data": {
            "text/html": [
              "<div>\n",
              "<style scoped>\n",
              "    .dataframe tbody tr th:only-of-type {\n",
              "        vertical-align: middle;\n",
              "    }\n",
              "\n",
              "    .dataframe tbody tr th {\n",
              "        vertical-align: top;\n",
              "    }\n",
              "\n",
              "    .dataframe thead th {\n",
              "        text-align: right;\n",
              "    }\n",
              "</style>\n",
              "<table border=\"1\" class=\"dataframe\">\n",
              "  <thead>\n",
              "    <tr style=\"text-align: right;\">\n",
              "      <th></th>\n",
              "      <th>id</th>\n",
              "      <th>vendor_id</th>\n",
              "      <th>pickup_datetime</th>\n",
              "      <th>dropoff_datetime</th>\n",
              "      <th>passenger_count</th>\n",
              "      <th>pickup_longitude</th>\n",
              "      <th>pickup_latitude</th>\n",
              "      <th>dropoff_longitude</th>\n",
              "      <th>dropoff_latitude</th>\n",
              "      <th>store_and_fwd_flag</th>\n",
              "      <th>trip_duration</th>\n",
              "      <th>trip_duration_minutes</th>\n",
              "    </tr>\n",
              "  </thead>\n",
              "  <tbody>\n",
              "    <tr>\n",
              "      <th>0</th>\n",
              "      <td>id2875421</td>\n",
              "      <td>2</td>\n",
              "      <td>2016-03-14 17:24:55</td>\n",
              "      <td>2016-03-14 17:32:30</td>\n",
              "      <td>1</td>\n",
              "      <td>-73.982155</td>\n",
              "      <td>40.767937</td>\n",
              "      <td>-73.964630</td>\n",
              "      <td>40.765602</td>\n",
              "      <td>N</td>\n",
              "      <td>455</td>\n",
              "      <td>07:35</td>\n",
              "    </tr>\n",
              "    <tr>\n",
              "      <th>1</th>\n",
              "      <td>id2377394</td>\n",
              "      <td>1</td>\n",
              "      <td>2016-06-12 00:43:35</td>\n",
              "      <td>2016-06-12 00:54:38</td>\n",
              "      <td>1</td>\n",
              "      <td>-73.980415</td>\n",
              "      <td>40.738564</td>\n",
              "      <td>-73.999481</td>\n",
              "      <td>40.731152</td>\n",
              "      <td>N</td>\n",
              "      <td>663</td>\n",
              "      <td>11:03</td>\n",
              "    </tr>\n",
              "    <tr>\n",
              "      <th>2</th>\n",
              "      <td>id3858529</td>\n",
              "      <td>2</td>\n",
              "      <td>2016-01-19 11:35:24</td>\n",
              "      <td>2016-01-19 12:10:48</td>\n",
              "      <td>1</td>\n",
              "      <td>-73.979027</td>\n",
              "      <td>40.763939</td>\n",
              "      <td>-74.005333</td>\n",
              "      <td>40.710087</td>\n",
              "      <td>N</td>\n",
              "      <td>2124</td>\n",
              "      <td>35:24</td>\n",
              "    </tr>\n",
              "    <tr>\n",
              "      <th>3</th>\n",
              "      <td>id3504673</td>\n",
              "      <td>2</td>\n",
              "      <td>2016-04-06 19:32:31</td>\n",
              "      <td>2016-04-06 19:39:40</td>\n",
              "      <td>1</td>\n",
              "      <td>-74.010040</td>\n",
              "      <td>40.719971</td>\n",
              "      <td>-74.012268</td>\n",
              "      <td>40.706718</td>\n",
              "      <td>N</td>\n",
              "      <td>429</td>\n",
              "      <td>07:09</td>\n",
              "    </tr>\n",
              "    <tr>\n",
              "      <th>4</th>\n",
              "      <td>id2181028</td>\n",
              "      <td>2</td>\n",
              "      <td>2016-03-26 13:30:55</td>\n",
              "      <td>2016-03-26 13:38:10</td>\n",
              "      <td>1</td>\n",
              "      <td>-73.973053</td>\n",
              "      <td>40.793209</td>\n",
              "      <td>-73.972923</td>\n",
              "      <td>40.782520</td>\n",
              "      <td>N</td>\n",
              "      <td>435</td>\n",
              "      <td>07:15</td>\n",
              "    </tr>\n",
              "  </tbody>\n",
              "</table>\n",
              "</div>"
            ],
            "text/plain": [
              "          id  vendor_id  ... trip_duration trip_duration_minutes\n",
              "0  id2875421          2  ...           455                 07:35\n",
              "1  id2377394          1  ...           663                 11:03\n",
              "2  id3858529          2  ...          2124                 35:24\n",
              "3  id3504673          2  ...           429                 07:09\n",
              "4  id2181028          2  ...           435                 07:15\n",
              "\n",
              "[5 rows x 12 columns]"
            ]
          },
          "metadata": {
            "tags": []
          },
          "execution_count": 8
        }
      ]
    },
    {
      "cell_type": "code",
      "metadata": {
        "id": "zwhuD2B3UsT6",
        "colab_type": "code",
        "colab": {
          "base_uri": "https://localhost:8080/",
          "height": 646
        },
        "outputId": "8e4bcfa6-9535-4fa7-fd04-c64ebfd95e10"
      },
      "source": [
        "print(df_taxi.shape)\n",
        "print(\"\\n\")\n",
        "print(df_taxi.dtypes)\n",
        "print(\"\\n\")\n",
        "\n",
        "print(\"Description of data frame\")\n",
        "print(df_taxi.info())"
      ],
      "execution_count": 9,
      "outputs": [
        {
          "output_type": "stream",
          "text": [
            "(1458644, 12)\n",
            "\n",
            "\n",
            "id                               object\n",
            "vendor_id                         int64\n",
            "pickup_datetime          datetime64[ns]\n",
            "dropoff_datetime                 object\n",
            "passenger_count                   int64\n",
            "pickup_longitude                float64\n",
            "pickup_latitude                 float64\n",
            "dropoff_longitude               float64\n",
            "dropoff_latitude                float64\n",
            "store_and_fwd_flag               object\n",
            "trip_duration                     int64\n",
            "trip_duration_minutes            object\n",
            "dtype: object\n",
            "\n",
            "\n",
            "Description of data frame\n",
            "<class 'pandas.core.frame.DataFrame'>\n",
            "RangeIndex: 1458644 entries, 0 to 1458643\n",
            "Data columns (total 12 columns):\n",
            "id                       1458644 non-null object\n",
            "vendor_id                1458644 non-null int64\n",
            "pickup_datetime          1458644 non-null datetime64[ns]\n",
            "dropoff_datetime         1458644 non-null object\n",
            "passenger_count          1458644 non-null int64\n",
            "pickup_longitude         1458644 non-null float64\n",
            "pickup_latitude          1458644 non-null float64\n",
            "dropoff_longitude        1458644 non-null float64\n",
            "dropoff_latitude         1458644 non-null float64\n",
            "store_and_fwd_flag       1458644 non-null object\n",
            "trip_duration            1458644 non-null int64\n",
            "trip_duration_minutes    1458644 non-null object\n",
            "dtypes: datetime64[ns](1), float64(4), int64(3), object(4)\n",
            "memory usage: 133.5+ MB\n",
            "None\n"
          ],
          "name": "stdout"
        }
      ]
    },
    {
      "cell_type": "code",
      "metadata": {
        "id": "FCFK_41yVTJI",
        "colab_type": "code",
        "colab": {
          "base_uri": "https://localhost:8080/",
          "height": 275
        },
        "outputId": "498a5a72-0c41-486e-9e4c-7d8fe9dabc9a"
      },
      "source": [
        "df_taxi.describe"
      ],
      "execution_count": 10,
      "outputs": [
        {
          "output_type": "execute_result",
          "data": {
            "text/plain": [
              "<bound method NDFrame.describe of                 id  vendor_id  ... trip_duration trip_duration_minutes\n",
              "0        id2875421          2  ...           455                 07:35\n",
              "1        id2377394          1  ...           663                 11:03\n",
              "2        id3858529          2  ...          2124                 35:24\n",
              "3        id3504673          2  ...           429                 07:09\n",
              "4        id2181028          2  ...           435                 07:15\n",
              "...            ...        ...  ...           ...                   ...\n",
              "1458639  id2376096          2  ...           778                 12:58\n",
              "1458640  id1049543          1  ...           655                 10:55\n",
              "1458641  id2304944          2  ...           764                 12:44\n",
              "1458642  id2714485          1  ...           373                 06:13\n",
              "1458643  id1209952          1  ...           198                 03:18\n",
              "\n",
              "[1458644 rows x 12 columns]>"
            ]
          },
          "metadata": {
            "tags": []
          },
          "execution_count": 10
        }
      ]
    },
    {
      "cell_type": "code",
      "metadata": {
        "id": "6hDGIMjCBQ4P",
        "colab_type": "code",
        "colab": {}
      },
      "source": [
        "df_taxi.pickup_datetime = pd.to_datetime(df_taxi.pickup_datetime)\n",
        "df_taxi.dropoff_datetime = pd.to_datetime(df_taxi.dropoff_datetime)"
      ],
      "execution_count": 0,
      "outputs": []
    },
    {
      "cell_type": "code",
      "metadata": {
        "id": "jtrBn_zxDLkn",
        "colab_type": "code",
        "colab": {}
      },
      "source": [
        "df_taxi.dropna(how='any', axis='rows', inplace=True)\n",
        "\n",
        "# Removing observations with erroneous values\n",
        "mask = df_taxi['pickup_longitude'].between(-75, -73)\n",
        "mask &= df_taxi['dropoff_longitude'].between(-75, -73)\n",
        "mask &= df_taxi['pickup_latitude'].between(40, 42)\n",
        "mask &= df_taxi['dropoff_latitude'].between(40, 42)\n",
        "mask &= df_taxi['passenger_count'].between(0, 8)\n",
        "mask &= df_taxi['trip_duration'].between(60,7200)\n",
        "\n",
        "df_taxi = df_taxi[mask]"
      ],
      "execution_count": 0,
      "outputs": []
    },
    {
      "cell_type": "code",
      "metadata": {
        "id": "d_ObBkZADYT8",
        "colab_type": "code",
        "colab": {
          "base_uri": "https://localhost:8080/",
          "height": 241
        },
        "outputId": "e14d9031-5fb2-4f7a-854d-3a86c38c1db6"
      },
      "source": [
        "# # month \n",
        "# df_taxi['mm_pickup'] = df_taxi.pickup_datetime.dt.month.astype(np.uint8)\n",
        "# df_taxi['mm_dropoff'] = df_taxi.dropoff_datetime.dt.month.astype(np.uint8)\n",
        "\n",
        "# # day of week\n",
        "# df_taxi['dow_pickup'] = df_taxi.pickup_datetime.dt.weekday.astype(np.uint8)\n",
        "# df_taxi['dow_dropoff'] = df_taxi.dropoff_datetime.dt.weekday.astype(np.uint8)\n",
        "\n",
        "# # day hour\n",
        "# df_taxi['hh_pickup'] = df_taxi.pickup_datetime.dt.hour.astype(np.uint8)\n",
        "# df_taxi['hh_dropoff'] = df_taxi.dropoff_datetime.dt.hour.astype(np.uint8)\n",
        "\n",
        "df_taxi.loc[:,'mm_pickup'] = df_taxi.pickup_datetime.dt.month.astype(np.uint8)\n",
        "df_taxi.loc[:,'mm_dropoff'] = df_taxi.dropoff_datetime.dt.month.astype(np.uint8)\n",
        "\n",
        "df_taxi.loc[:,'dow_pickup'] = df_taxi.pickup_datetime.dt.weekday.astype(np.uint8)\n",
        "df_taxi.loc[:,'dow_dropoff'] = df_taxi.dropoff_datetime.dt.weekday.astype(np.uint8)\n",
        "\n",
        "df_taxi.loc[:,'hh_pickup'] = df_taxi.pickup_datetime.dt.hour.astype(np.uint8)\n",
        "df_taxi.loc[:,'hh_dropoff'] = df_taxi.dropoff_datetime.dt.hour.astype(np.uint8)"
      ],
      "execution_count": 13,
      "outputs": [
        {
          "output_type": "stream",
          "text": [
            "/usr/local/lib/python3.6/dist-packages/pandas/core/indexing.py:376: SettingWithCopyWarning: \n",
            "A value is trying to be set on a copy of a slice from a DataFrame.\n",
            "Try using .loc[row_indexer,col_indexer] = value instead\n",
            "\n",
            "See the caveats in the documentation: http://pandas.pydata.org/pandas-docs/stable/user_guide/indexing.html#returning-a-view-versus-a-copy\n",
            "  self.obj[key] = _infer_fill_value(value)\n",
            "/usr/local/lib/python3.6/dist-packages/pandas/core/indexing.py:494: SettingWithCopyWarning: \n",
            "A value is trying to be set on a copy of a slice from a DataFrame.\n",
            "Try using .loc[row_indexer,col_indexer] = value instead\n",
            "\n",
            "See the caveats in the documentation: http://pandas.pydata.org/pandas-docs/stable/user_guide/indexing.html#returning-a-view-versus-a-copy\n",
            "  self.obj[item] = s\n"
          ],
          "name": "stderr"
        }
      ]
    },
    {
      "cell_type": "code",
      "metadata": {
        "id": "gj8IBCYFDjqO",
        "colab_type": "code",
        "colab": {}
      },
      "source": [
        "# calculate-distance-between-two-latitude-longitude-points-haversine-formula \n",
        "# return distance in miles\n",
        "def distance(lat1, lon1, lat2, lon2):\n",
        "    p = 0.017453292519943295 # Pi/180\n",
        "    a = 0.5 - np.cos((lat2 - lat1) * p)/2 + np.cos(lat1 * p) * np.cos(lat2 * p) * (1 - np.cos((lon2 - lon1) * p)) / 2\n",
        "    return 0.6213712 * 12742 * np.arcsin(np.sqrt(a)) "
      ],
      "execution_count": 0,
      "outputs": []
    },
    {
      "cell_type": "code",
      "metadata": {
        "id": "fYszFsdBDnkc",
        "colab_type": "code",
        "colab": {
          "base_uri": "https://localhost:8080/",
          "height": 139
        },
        "outputId": "97ab0f07-f026-4f16-9646-97874d9a3de4"
      },
      "source": [
        "df_taxi['distance_miles'] = distance(df_taxi.pickup_latitude, df_taxi.pickup_longitude, \\\n",
        "                                      df_taxi.dropoff_latitude, df_taxi.dropoff_longitude)"
      ],
      "execution_count": 15,
      "outputs": [
        {
          "output_type": "stream",
          "text": [
            "/usr/local/lib/python3.6/dist-packages/ipykernel_launcher.py:1: SettingWithCopyWarning: \n",
            "A value is trying to be set on a copy of a slice from a DataFrame.\n",
            "Try using .loc[row_indexer,col_indexer] = value instead\n",
            "\n",
            "See the caveats in the documentation: http://pandas.pydata.org/pandas-docs/stable/user_guide/indexing.html#returning-a-view-versus-a-copy\n",
            "  \"\"\"Entry point for launching an IPython kernel.\n"
          ],
          "name": "stderr"
        }
      ]
    },
    {
      "cell_type": "code",
      "metadata": {
        "id": "XzRZkal-DrPO",
        "colab_type": "code",
        "colab": {
          "base_uri": "https://localhost:8080/",
          "height": 328
        },
        "outputId": "7eb389ec-ffa5-4e9c-9c4b-6de1c511bc14"
      },
      "source": [
        "df_taxi.groupby('passenger_count')['distance_miles', 'trip_duration_minutes'].mean()"
      ],
      "execution_count": 16,
      "outputs": [
        {
          "output_type": "execute_result",
          "data": {
            "text/html": [
              "<div>\n",
              "<style scoped>\n",
              "    .dataframe tbody tr th:only-of-type {\n",
              "        vertical-align: middle;\n",
              "    }\n",
              "\n",
              "    .dataframe tbody tr th {\n",
              "        vertical-align: top;\n",
              "    }\n",
              "\n",
              "    .dataframe thead th {\n",
              "        text-align: right;\n",
              "    }\n",
              "</style>\n",
              "<table border=\"1\" class=\"dataframe\">\n",
              "  <thead>\n",
              "    <tr style=\"text-align: right;\">\n",
              "      <th></th>\n",
              "      <th>distance_miles</th>\n",
              "    </tr>\n",
              "    <tr>\n",
              "      <th>passenger_count</th>\n",
              "      <th></th>\n",
              "    </tr>\n",
              "  </thead>\n",
              "  <tbody>\n",
              "    <tr>\n",
              "      <th>0</th>\n",
              "      <td>2.704759</td>\n",
              "    </tr>\n",
              "    <tr>\n",
              "      <th>1</th>\n",
              "      <td>2.112432</td>\n",
              "    </tr>\n",
              "    <tr>\n",
              "      <th>2</th>\n",
              "      <td>2.272540</td>\n",
              "    </tr>\n",
              "    <tr>\n",
              "      <th>3</th>\n",
              "      <td>2.196573</td>\n",
              "    </tr>\n",
              "    <tr>\n",
              "      <th>4</th>\n",
              "      <td>2.257069</td>\n",
              "    </tr>\n",
              "    <tr>\n",
              "      <th>5</th>\n",
              "      <td>2.181611</td>\n",
              "    </tr>\n",
              "    <tr>\n",
              "      <th>6</th>\n",
              "      <td>2.119359</td>\n",
              "    </tr>\n",
              "    <tr>\n",
              "      <th>8</th>\n",
              "      <td>3.698310</td>\n",
              "    </tr>\n",
              "  </tbody>\n",
              "</table>\n",
              "</div>"
            ],
            "text/plain": [
              "                 distance_miles\n",
              "passenger_count                \n",
              "0                      2.704759\n",
              "1                      2.112432\n",
              "2                      2.272540\n",
              "3                      2.196573\n",
              "4                      2.257069\n",
              "5                      2.181611\n",
              "6                      2.119359\n",
              "8                      3.698310"
            ]
          },
          "metadata": {
            "tags": []
          },
          "execution_count": 16
        }
      ]
    },
    {
      "cell_type": "code",
      "metadata": {
        "id": "VCYSDw_WDzt2",
        "colab_type": "code",
        "colab": {
          "base_uri": "https://localhost:8080/",
          "height": 312
        },
        "outputId": "eaf631e3-7145-4d1c-8090-c423a446705b"
      },
      "source": [
        "df_taxi.trip_duration.hist(bins=50, figsize=(12,4))\n",
        "plt.xlabel('duration in seconds')\n",
        "plt.title('Histogram ride time in seconds')"
      ],
      "execution_count": 17,
      "outputs": [
        {
          "output_type": "execute_result",
          "data": {
            "text/plain": [
              "Text(0.5, 1.0, 'Histogram ride time in seconds')"
            ]
          },
          "metadata": {
            "tags": []
          },
          "execution_count": 17
        },
        {
          "output_type": "display_data",
          "data": {
            "image/png": "[encoded data removed]",
            "text/plain": [
              "<Figure size 864x288 with 1 Axes>"
            ]
          },
          "metadata": {
            "tags": []
          }
        }
      ]
    },
    {
      "cell_type": "code",
      "metadata": {
        "id": "CXG5LsDsD2SL",
        "colab_type": "code",
        "colab": {
          "base_uri": "https://localhost:8080/",
          "height": 312
        },
        "outputId": "0507df17-10db-4db7-c1cf-6b52d2f5c240"
      },
      "source": [
        "df_taxi.distance_miles.hist(bins=50, figsize=(12,4))\n",
        "plt.xlabel('distance miles')\n",
        "plt.title('Histogram ride distances in miles')"
      ],
      "execution_count": 18,
      "outputs": [
        {
          "output_type": "execute_result",
          "data": {
            "text/plain": [
              "Text(0.5, 1.0, 'Histogram ride distances in miles')"
            ]
          },
          "metadata": {
            "tags": []
          },
          "execution_count": 18
        },
        {
          "output_type": "display_data",
          "data": {
            "image/png": "[encoded data removed]",
            "text/plain": [
              "<Figure size 864x288 with 1 Axes>"
            ]
          },
          "metadata": {
            "tags": []
          }
        }
      ]
    },
    {
      "cell_type": "code",
      "metadata": {
        "id": "6tWtG3RjD4pF",
        "colab_type": "code",
        "colab": {}
      },
      "source": [
        "boundary={'min_lng':-74.263242,\n",
        "              'min_lat':40.573143,\n",
        "              'max_lng':-72.986532, \n",
        "              'max_lat':41.709555}"
      ],
      "execution_count": 0,
      "outputs": []
    },
    {
      "cell_type": "code",
      "metadata": {
        "id": "zGY32jzBD9Jw",
        "colab_type": "code",
        "colab": {
          "base_uri": "https://localhost:8080/",
          "height": 309
        },
        "outputId": "fb0b3586-80e1-40f6-ba47-8b808353f94d"
      },
      "source": [
        "df_taxi.loc[~((df_taxi.pickup_longitude >= boundary['min_lng'] ) & (df_taxi.pickup_longitude <= boundary['max_lng']) &\n",
        "            (df_taxi.pickup_latitude >= boundary['min_lat']) & (df_taxi.pickup_latitude <= boundary['max_lat']) &\n",
        "            (df_taxi.dropoff_longitude >= boundary['min_lng']) & (df_taxi.dropoff_longitude <= boundary['max_lng']) &\n",
        "            (df_taxi.dropoff_latitude >=boundary['min_lat']) & (df_taxi.dropoff_latitude <= boundary['max_lat'])),'is_outlier_loc']=1\n",
        "df_taxi.loc[((df_taxi.pickup_longitude >= boundary['min_lng'] ) & (df_taxi.pickup_longitude <= boundary['max_lng']) &\n",
        "            (df_taxi.pickup_latitude >= boundary['min_lat']) & (df_taxi.pickup_latitude <= boundary['max_lat']) &\n",
        "            (df_taxi.dropoff_longitude >= boundary['min_lng']) & (df_taxi.dropoff_longitude <= boundary['max_lng']) &\n",
        "            (df_taxi.dropoff_latitude >=boundary['min_lat']) & (df_taxi.dropoff_latitude <= boundary['max_lat'])),'is_outlier_loc']=0\n",
        "\n",
        "print(\"Outlier vs Non Outlier Counts\")\n",
        "print(df_taxi['is_outlier_loc'].value_counts())\n",
        "\n",
        "# Let us drop rows, where location is outlier\n",
        "df_taxi=df_taxi.loc[df_taxi['is_outlier_loc']==0]\n",
        "df_taxi.drop(['is_outlier_loc'],axis=1,inplace=True)"
      ],
      "execution_count": 20,
      "outputs": [
        {
          "output_type": "stream",
          "text": [
            "/usr/local/lib/python3.6/dist-packages/pandas/core/indexing.py:376: SettingWithCopyWarning: \n",
            "A value is trying to be set on a copy of a slice from a DataFrame.\n",
            "Try using .loc[row_indexer,col_indexer] = value instead\n",
            "\n",
            "See the caveats in the documentation: http://pandas.pydata.org/pandas-docs/stable/user_guide/indexing.html#returning-a-view-versus-a-copy\n",
            "  self.obj[key] = _infer_fill_value(value)\n",
            "/usr/local/lib/python3.6/dist-packages/pandas/core/indexing.py:494: SettingWithCopyWarning: \n",
            "A value is trying to be set on a copy of a slice from a DataFrame.\n",
            "Try using .loc[row_indexer,col_indexer] = value instead\n",
            "\n",
            "See the caveats in the documentation: http://pandas.pydata.org/pandas-docs/stable/user_guide/indexing.html#returning-a-view-versus-a-copy\n",
            "  self.obj[item] = s\n"
          ],
          "name": "stderr"
        },
        {
          "output_type": "stream",
          "text": [
            "Outlier vs Non Outlier Counts\n",
            "0.0    1447546\n",
            "1.0        208\n",
            "Name: is_outlier_loc, dtype: int64\n"
          ],
          "name": "stdout"
        }
      ]
    },
    {
      "cell_type": "code",
      "metadata": {
        "id": "rCUHo6GJEBLr",
        "colab_type": "code",
        "colab": {}
      },
      "source": [
        "def PickupPlot1(data):\n",
        "    '''\n",
        "    Pickup time distribution by hour-of-day\n",
        "    '''\n",
        "    plt.figure(figsize=(12,2))\n",
        "\n",
        "    data = data.groupby('hh_pickup').aggregate({'id':'count'}).reset_index()\n",
        "    sns.barplot(x='hh_pickup', y='id', data=data)\n",
        "\n",
        "    plt.title('Pick-ups Hour Distribution')\n",
        "    plt.xlabel('Hour of Day, 0-23')\n",
        "    plt.ylabel('No of Trips made')\n",
        "\n",
        "    plt.savefig('pickups-hour-distribution.png')\n",
        "\n",
        "def PickupPlot2(data, dow_names):\n",
        "    '''\n",
        "    Pickup time distribution by day-of-week\n",
        "    '''\n",
        "    plt.figure(figsize=(12,2))\n",
        "\n",
        "    data = data.groupby('dow_pickup').aggregate({'id':'count'}).reset_index()\n",
        "    sns.barplot(x='dow_pickup', y='id', data=data)\n",
        "\n",
        "    plt.title('Pick-ups Weekday Distribution')\n",
        "    plt.xlabel('Trip Duration, minutes')\n",
        "    plt.xticks(range(0,7), dow_names, rotation='horizontal')\n",
        "    plt.ylabel('No of Trips made')\n",
        "\n",
        "    plt.savefig('pickups-weekday-distribution.png')\n",
        "\n",
        "def PickupPlot3(data, dow_names):\n",
        "    '''\n",
        "    Pickup heatmap of day-of-week vs. hour-of-day\n",
        "    '''\n",
        "    plt.figure(figsize=(12,2))\n",
        "    sns.heatmap(data=pd.crosstab(data.dow_pickup, data.hh_pickup, values=data.vendor_id, aggfunc='count', normalize='index'))\n",
        "\n",
        "    plt.title('Pickup heatmap, Day-of-Week vs. Day Hour')\n",
        "    plt.ylabel('Weekday')\n",
        "    plt.xlabel('Day Hour, 0-23')\n",
        "    plt.yticks(range(0,7), dow_names[::-1], rotation='horizontal')\n",
        "\n",
        "    plt.savefig('pickup-heatmap-day-of-week-vs-hour.png')\n",
        "\n",
        "def TripDurationPlot1(data):\n",
        "    '''\n",
        "    Trip duration distribution in minutes\n",
        "    '''\n",
        "    plt.figure(figsize=(12,3))\n",
        "\n",
        "    plt.title('Trip Duration Distribution')\n",
        "    plt.xlabel('Trip Duration, minutes')\n",
        "    plt.ylabel('No of Trips made')\n",
        "    plt.hist(data.trip_duration / 60, bins=100)\n",
        "\n",
        "    plt.savefig('trip-duration-distribution.png')\n",
        "\n",
        "def TripDurationPlot2(data, dow_names):\n",
        "    '''\n",
        "    Trip duration based on hour-of-day vs. weekday\n",
        "    '''\n",
        "    plt.figure(figsize=(12,2))\n",
        "    sns.heatmap(data=pd.crosstab(data.dow_pickup, data.hh_pickup, values=data.trip_duration/60, aggfunc='mean'))\n",
        "\n",
        "    plt.title('Trip duration heatmap (Minutes), Day-of-Week vs. Day Hour')\n",
        "    plt.ylabel('Weekday')\n",
        "    plt.xlabel('Day Hour, 0-23')\n",
        "    plt.yticks(range(0,7), dow_names[::-1], rotation='horizontal')\n",
        "\n",
        "    plt.savefig('trip-duration-heatmap.png')"
      ],
      "execution_count": 0,
      "outputs": []
    },
    {
      "cell_type": "code",
      "metadata": {
        "id": "d8UFOatPEQnZ",
        "colab_type": "code",
        "colab": {
          "base_uri": "https://localhost:8080/",
          "height": 921
        },
        "outputId": "13e42d92-97b8-4d6c-cc20-1419cc397ee1"
      },
      "source": [
        "if __name__ == '__main__':\n",
        "    # Load train data\n",
        "    taxiDB = df_taxi\n",
        "\n",
        "    # Let's add some additional columns to speed-up calculations dow names for plot mapping\n",
        "    dow_names = ['Monday', 'Tuesday', 'Wednesday', 'Thursday', 'Friday', 'Saturday', 'Sunday']\n",
        "\n",
        "    # Visualization for Pick-Up feature\n",
        "    PickupPlot1(taxiDB)\n",
        "    PickupPlot2(taxiDB, dow_names)\n",
        "    PickupPlot3(taxiDB, dow_names)\n",
        "\n",
        "    # Visualization for Trip Duration feature\n",
        "    TripDurationPlot1(taxiDB)\n",
        "    TripDurationPlot2(taxiDB, dow_names)"
      ],
      "execution_count": 22,
      "outputs": [
        {
          "output_type": "display_data",
          "data": {
            "image/png": "[encoded data removed]",
            "text/plain": [
              "<Figure size 864x144 with 1 Axes>"
            ]
          },
          "metadata": {
            "tags": []
          }
        },
        {
          "output_type": "display_data",
          "data": {
            "image/png": "[encoded data removed]",
            "text/plain": [
              "<Figure size 864x144 with 1 Axes>"
            ]
          },
          "metadata": {
            "tags": []
          }
        },
        {
          "output_type": "display_data",
          "data": {
            "image/png": "[encoded data removed]",
            "text/plain": [
              "<Figure size 864x144 with 2 Axes>"
            ]
          },
          "metadata": {
            "tags": []
          }
        },
        {
          "output_type": "display_data",
          "data": {
            "image/png": "[encoded data removed]",
            "text/plain": [
              "<Figure size 864x216 with 1 Axes>"
            ]
          },
          "metadata": {
            "tags": []
          }
        },
        {
          "output_type": "display_data",
          "data": {
            "image/png": "[encoded data removed]",
            "text/plain": [
              "<Figure size 864x144 with 2 Axes>"
            ]
          },
          "metadata": {
            "tags": []
          }
        }
      ]
    },
    {
      "cell_type": "code",
      "metadata": {
        "id": "RP9TM7VtEVqm",
        "colab_type": "code",
        "colab": {}
      },
      "source": [
        "# nyc_airports={'JFK':{'min_lng':-73.8352,\n",
        "#      'min_lat':40.6195,\n",
        "#      'max_lng':-73.7401, \n",
        "#      'max_lat':40.6659},\n",
        "              \n",
        "#     'EWR':{'min_lng':-74.1925,\n",
        "#             'min_lat':40.6700, \n",
        "#             'max_lng':-74.1531, \n",
        "#             'max_lat':40.7081\n",
        "\n",
        "#         },\n",
        "#     'LaGuardia':{'min_lng':-73.8895, \n",
        "#                   'min_lat':40.7664, \n",
        "#                   'max_lng':-73.8550, \n",
        "#                   'max_lat':40.7931\n",
        "        \n",
        "#     }\n",
        "    \n",
        "# }\n",
        "# def isAirport(latitude,longitude,airport_name='JFK'):\n",
        "    \n",
        "#     if latitude>=nyc_airports[airport_name]['min_lat'] and latitude<=nyc_airports[airport_name]['max_lat'] and longitude>=nyc_airports[airport_name]['min_lng'] and longitude<=nyc_airports[airport_name]['max_lng']:\n",
        "#         return 1\n",
        "#     else:\n",
        "#         return 0"
      ],
      "execution_count": 0,
      "outputs": []
    },
    {
      "cell_type": "code",
      "metadata": {
        "id": "HfOxJYhgEYgy",
        "colab_type": "code",
        "colab": {}
      },
      "source": [
        "# Maybe use\n",
        "#df_taxi['is_pickup_JFK']=df_taxi.apply(lambda row:isAirport(row['pickup_latitude'],row['pickup_longitude'],'JFK'),axis=1)\n",
        "#df_taxi['is_dropoff_JFK']=df_taxi.apply(lambda row:isAirport(row['dropoff_latitude'],row['dropoff_longitude'],'JFK'),axis=1)\n",
        "#df_taxi['is_pickup_EWR']=df_taxi.apply(lambda row:isAirport(row['pickup_latitude'],row['pickup_longitude'],'EWR'),axis=1)\n",
        "#df_taxi['is_dropoff_EWR']=df_taxi.apply(lambda row:isAirport(row['dropoff_latitude'],row['dropoff_longitude'],'EWR'),axis=1)\n",
        "#df_taxi['is_pickup_la_guardia']=df_taxi.apply(lambda row:isAirport(row['pickup_latitude'],row['pickup_longitude'],'LaGuardia'),axis=1)\n",
        "#df_taxi['is_dropoff_la_guardia']=df_taxi.apply(lambda row:isAirport(row['dropoff_latitude'],row['dropoff_longitude'],'LaGuardia'),axis=1)"
      ],
      "execution_count": 0,
      "outputs": []
    },
    {
      "cell_type": "code",
      "metadata": {
        "id": "-gO5X3rYEnFf",
        "colab_type": "code",
        "colab": {}
      },
      "source": [
        "data = df_taxi"
      ],
      "execution_count": 0,
      "outputs": []
    },
    {
      "cell_type": "code",
      "metadata": {
        "id": "PqtX-DfjEnqx",
        "colab_type": "code",
        "colab": {}
      },
      "source": [
        "allLat = np.array(list(data['pickup_latitude']) + list(data['dropoff_latitude']))\n",
        "allLong = np.array(list(data['pickup_longitude']) + list(data['dropoff_longitude']))\n",
        "\n",
        "longLimits = [np.percentile(allLong, 0.3), np.percentile(allLong, 99.7)]\n",
        "latLimits  = [np.percentile(allLat , 0.3), np.percentile(allLat , 99.7)]\n",
        "\n",
        "data = data[(data['pickup_latitude']   >= latLimits[0] ) & (data['pickup_latitude']   <= latLimits[1]) ]\n",
        "data = data[(data['dropoff_latitude']  >= latLimits[0] ) & (data['dropoff_latitude']  <= latLimits[1]) ]\n",
        "data = data[(data['pickup_longitude']  >= longLimits[0]) & (data['pickup_longitude']  <= longLimits[1])]\n",
        "data = data[(data['dropoff_longitude'] >= longLimits[0]) & (data['dropoff_longitude'] <= longLimits[1])]\n",
        "data = data.reset_index(drop=True)\n",
        "\n",
        "allLat = np.array(list(data['pickup_latitude']) + list(data['dropoff_latitude']))\n",
        "allLong = np.array(list(data['pickup_longitude']) + list(data['dropoff_longitude']))\n",
        "\n",
        "    # convert fields to sensible units\n",
        "medianLat = np.percentile(allLat,50)\n",
        "medianLong = np.percentile(allLong,50)\n",
        "\n",
        "latMultiplier = 111.32\n",
        "longMultiplier = np.cos(medianLat*(np.pi/180.0)) * 111.32\n",
        "\n",
        "data['duration [min]'] = data['trip_duration']/60.0\n",
        "data['src lat [km]']   = latMultiplier  * (data['pickup_latitude']   - medianLat)\n",
        "data['src long [km]']  = longMultiplier * (data['pickup_longitude']  - medianLong)\n",
        "data['dst lat [km]']   = latMultiplier  * (data['dropoff_latitude']  - medianLat)\n",
        "data['dst long [km]']  = longMultiplier * (data['dropoff_longitude'] - medianLong)\n",
        "\n",
        "allLat  = np.array(list(data['src lat [km]'])  + list(data['dst lat [km]']))\n",
        "allLong = np.array(list(data['src long [km]']) + list(data['dst long [km]']))"
      ],
      "execution_count": 0,
      "outputs": []
    },
    {
      "cell_type": "code",
      "metadata": {
        "id": "yR81aLHuEqcO",
        "colab_type": "code",
        "colab": {
          "base_uri": "https://localhost:8080/",
          "height": 1000
        },
        "outputId": "c39b8014-2e2e-4bd1-f682-a0607f05bf7a"
      },
      "source": [
        "imageSize = (700, 700)\n",
        "longRange = [-5, 19]\n",
        "latRange = [-13, 11]\n",
        "\n",
        "allLatInds  = imageSize[0] - (imageSize[0] * (allLat  - latRange[0])  / (latRange[1]  - latRange[0]) ).astype(int)\n",
        "allLongInds = (imageSize[1] * (allLong - longRange[0]) / (longRange[1] - longRange[0])).astype(int)\n",
        "\n",
        "locationDensityImage = np.zeros(imageSize)\n",
        "for latInd, longInd in zip(allLatInds, allLongInds):\n",
        "    locationDensityImage[latInd, longInd] += 1\n",
        "\n",
        "fig, ax = plt.subplots(nrows=1, ncols=1, figsize=(12,12))\n",
        "ax.imshow(np.log(locationDensityImage + 1), cmap='hot')\n",
        "ax.set_axis_off()\n",
        "\n",
        "# plt.savefig('spatial-density-pickup-dropoff.png')\n",
        "\n",
        "# latInds = imageSize[0] - (imageSize[0] * (latCoord  - latRange[0])  / (latRange[1]  - latRange[0]) ).astype(int)\n",
        "# longInds = (imageSize[1] * (longCoord - longRange[0]) / (longRange[1] - longRange[0])).astype(int)\n",
        "\n",
        "\n",
        "# templateTrips = TripKmeansModel.cluster_centers_ * np.tile(stdTripAttr, (numClusters, 1)) + np.tile(meanTripAttr,(numClusters, 1))\n",
        "\n",
        "# srcCoords = templateTrips[:, :2]\n",
        "# dstCoords = templateTrips[:, 2:4]\n",
        "\n",
        "# srcImCoords = ConvertToImageCoords(srcCoords[:, 0],srcCoords[:, 1], latRange, longRange, imageSize)\n",
        "# dstImCoords = ConvertToImageCoords(dstCoords[:, 0],dstCoords[:, 1], latRange, longRange, imageSize)\n",
        "\n",
        "plt.figure(figsize=(12,12))\n",
        "plt.imshow(np.log(locationDensityImage + 1), cmap='hot')\n",
        "plt.grid('off')\n",
        "plt.scatter(srcImCoords[1], srcImCoords[0], c='m', s=200, alpha=0.8)\n",
        "plt.scatter(dstImCoords[1], dstImCoords[0], c='g', s=200, alpha=0.8)\n",
        "\n",
        "for i in range(len(srcImCoords[0])):\n",
        "    plt.arrow(srcImCoords[1][i], srcImCoords[0][i],\n",
        "            dstImCoords[1][i]-srcImCoords[1][i],\n",
        "            dstImCoords[0][i]-srcImCoords[0][i],\n",
        "            edgecolor='c', facecolor='c',\n",
        "            width=0.8,\n",
        "            alpha=0.4,\n",
        "            head_width=10.0,\n",
        "            head_length=10.0,\n",
        "            length_includes_head=True)\n",
        "\n",
        "# plt.savefig('typical-trips.png')"
      ],
      "execution_count": 27,
      "outputs": [
        {
          "output_type": "error",
          "ename": "NameError",
          "evalue": "ignored",
          "traceback": [
            "\u001b[0;31m---------------------------------------------------------------------------\u001b[0m",
            "\u001b[0;31mNameError\u001b[0m                                 Traceback (most recent call last)",
            "\u001b[0;32m<ipython-input-27-1d06c4387628>\u001b[0m in \u001b[0;36m<module>\u001b[0;34m()\u001b[0m\n\u001b[1;32m     31\u001b[0m \u001b[0mplt\u001b[0m\u001b[0;34m.\u001b[0m\u001b[0mimshow\u001b[0m\u001b[0;34m(\u001b[0m\u001b[0mnp\u001b[0m\u001b[0;34m.\u001b[0m\u001b[0mlog\u001b[0m\u001b[0;34m(\u001b[0m\u001b[0mlocationDensityImage\u001b[0m \u001b[0;34m+\u001b[0m \u001b[0;36m1\u001b[0m\u001b[0;34m)\u001b[0m\u001b[0;34m,\u001b[0m \u001b[0mcmap\u001b[0m\u001b[0;34m=\u001b[0m\u001b[0;34m'hot'\u001b[0m\u001b[0;34m)\u001b[0m\u001b[0;34m\u001b[0m\u001b[0;34m\u001b[0m\u001b[0m\n\u001b[1;32m     32\u001b[0m \u001b[0mplt\u001b[0m\u001b[0;34m.\u001b[0m\u001b[0mgrid\u001b[0m\u001b[0;34m(\u001b[0m\u001b[0;34m'off'\u001b[0m\u001b[0;34m)\u001b[0m\u001b[0;34m\u001b[0m\u001b[0;34m\u001b[0m\u001b[0m\n\u001b[0;32m---> 33\u001b[0;31m \u001b[0mplt\u001b[0m\u001b[0;34m.\u001b[0m\u001b[0mscatter\u001b[0m\u001b[0;34m(\u001b[0m\u001b[0msrcImCoords\u001b[0m\u001b[0;34m[\u001b[0m\u001b[0;36m1\u001b[0m\u001b[0;34m]\u001b[0m\u001b[0;34m,\u001b[0m \u001b[0msrcImCoords\u001b[0m\u001b[0;34m[\u001b[0m\u001b[0;36m0\u001b[0m\u001b[0;34m]\u001b[0m\u001b[0;34m,\u001b[0m \u001b[0mc\u001b[0m\u001b[0;34m=\u001b[0m\u001b[0;34m'm'\u001b[0m\u001b[0;34m,\u001b[0m \u001b[0ms\u001b[0m\u001b[0;34m=\u001b[0m\u001b[0;36m200\u001b[0m\u001b[0;34m,\u001b[0m \u001b[0malpha\u001b[0m\u001b[0;34m=\u001b[0m\u001b[0;36m0.8\u001b[0m\u001b[0;34m)\u001b[0m\u001b[0;34m\u001b[0m\u001b[0;34m\u001b[0m\u001b[0m\n\u001b[0m\u001b[1;32m     34\u001b[0m \u001b[0mplt\u001b[0m\u001b[0;34m.\u001b[0m\u001b[0mscatter\u001b[0m\u001b[0;34m(\u001b[0m\u001b[0mdstImCoords\u001b[0m\u001b[0;34m[\u001b[0m\u001b[0;36m1\u001b[0m\u001b[0;34m]\u001b[0m\u001b[0;34m,\u001b[0m \u001b[0mdstImCoords\u001b[0m\u001b[0;34m[\u001b[0m\u001b[0;36m0\u001b[0m\u001b[0;34m]\u001b[0m\u001b[0;34m,\u001b[0m \u001b[0mc\u001b[0m\u001b[0;34m=\u001b[0m\u001b[0;34m'g'\u001b[0m\u001b[0;34m,\u001b[0m \u001b[0ms\u001b[0m\u001b[0;34m=\u001b[0m\u001b[0;36m200\u001b[0m\u001b[0;34m,\u001b[0m \u001b[0malpha\u001b[0m\u001b[0;34m=\u001b[0m\u001b[0;36m0.8\u001b[0m\u001b[0;34m)\u001b[0m\u001b[0;34m\u001b[0m\u001b[0;34m\u001b[0m\u001b[0m\n\u001b[1;32m     35\u001b[0m \u001b[0;34m\u001b[0m\u001b[0m\n",
            "\u001b[0;31mNameError\u001b[0m: name 'srcImCoords' is not defined"
          ]
        },
        {
          "output_type": "display_data",
          "data": {
            "image/png": "[encoded data removed]",
            "text/plain": [
              "<Figure size 864x864 with 1 Axes>"
            ]
          },
          "metadata": {
            "tags": []
          }
        },
        {
          "output_type": "display_data",
          "data": {
            "image/png": "[encoded data removed]",
            "text/plain": [
              "<Figure size 864x864 with 1 Axes>"
            ]
          },
          "metadata": {
            "tags": []
          }
        }
      ]
    },
    {
      "cell_type": "code",
      "metadata": {
        "id": "B3nR10PTEtMg",
        "colab_type": "code",
        "colab": {}
      },
      "source": [
        "### Source -- https://www.kaggle.com/drgilermo/dynamics-of-new-york-city-animation ---- ###\n",
        "neighborhood = {-74.0019368351: 'Chelsea',-73.837549761: 'Queens',-73.7854240738: 'JFK',-73.9810421975:'Midtown-North-West',-73.9862336241: 'East Village',\n",
        "                -73.971273324:'Midtown-North-East',-73.9866739677: 'Brooklyn-Park slope',-73.8690098118: 'LaGuardia',-73.9890572967:'Midtown',-74.0081765545: 'Downtown'\n",
        "                ,-73.9213024854: 'Queens-Astoria',-73.9470256923: 'Harlem',-73.9555565018: 'Upper East Side',\n",
        "               -73.9453487097: 'Brooklyn-Williamsburg',-73.9745967889:'Upper West Side'}"
      ],
      "execution_count": 0,
      "outputs": []
    },
    {
      "cell_type": "code",
      "metadata": {
        "id": "o2yNOy3YE2Ra",
        "colab_type": "code",
        "colab": {
          "base_uri": "https://localhost:8080/",
          "height": 68
        },
        "outputId": "5703aefa-6969-40e5-a995-6b1dc4e733a6"
      },
      "source": [
        "rides_df = pd.DataFrame(columns = neighborhood.values())\n",
        "rides_df['name'] = neighborhood.values()\n",
        "\n",
        "neigh = KNeighborsClassifier(n_neighbors=1)\n",
        "neigh.fit(np.array(list(neighborhood.keys())).reshape(-1, 1), list(neighborhood.values()))"
      ],
      "execution_count": 29,
      "outputs": [
        {
          "output_type": "execute_result",
          "data": {
            "text/plain": [
              "KNeighborsClassifier(algorithm='auto', leaf_size=30, metric='minkowski',\n",
              "                     metric_params=None, n_jobs=None, n_neighbors=1, p=2,\n",
              "                     weights='uniform')"
            ]
          },
          "metadata": {
            "tags": []
          },
          "execution_count": 29
        }
      ]
    },
    {
      "cell_type": "code",
      "metadata": {
        "id": "P7Rs5skYE4iw",
        "colab_type": "code",
        "colab": {}
      },
      "source": [
        "df_taxi['pickup_neighborhood'] = neigh.predict(df_taxi.pickup_longitude.values.reshape(-1,1))\n",
        "df_taxi['dropoff_neighborhood'] = neigh.predict(df_taxi.dropoff_longitude.values.reshape(-1,1))\n",
        "\n",
        "for col in rides_df.columns[:-1]:\n",
        "    rides_df[col] = rides_df.name.apply(lambda x: len(df_taxi[(df_taxi.pickup_neighborhood == x) & (df_taxi.dropoff_neighborhood == col)]))"
      ],
      "execution_count": 0,
      "outputs": []
    },
    {
      "cell_type": "code",
      "metadata": {
        "id": "bKKtT0a3E7Tc",
        "colab_type": "code",
        "colab": {
          "base_uri": "https://localhost:8080/",
          "height": 610
        },
        "outputId": "fd8482ba-56be-496e-f8e3-40846d56ae4c"
      },
      "source": [
        "import plotly.offline as py\n",
        "import plotly.graph_objs as go\n",
        "py.init_notebook_mode(connected=True)\n",
        "\n",
        "trace = go.Heatmap(z= np.array(rides_df.as_matrix()),\n",
        "                  x = rides_df.columns[:-1],\n",
        "                  y = rides_df.columns)\n",
        "layout = dict(\n",
        "    title = ' <b>Neighborhood Interaction</b>',\n",
        "    titlefont = dict(\n",
        "    size = 30,\n",
        "    color = ('rgb(100,100,100)')),\n",
        "    margin = dict(t=100,r=100,b=100,l=150),\n",
        "        yaxis = dict(\n",
        "            title = ' <b> From </b>'),\n",
        "        xaxis = dict(\n",
        "            title = '<b> To </b>'))\n",
        "data=[trace]\n",
        "fig = go.Figure(data=data, layout=layout)\n",
        "py.iplot(fig, filename='labeled-heatmap')\n"
      ],
      "execution_count": 31,
      "outputs": [
        {
          "output_type": "display_data",
          "data": {
            "text/html": [
              "        <script type=\"text/javascript\">\n",
              "        window.PlotlyConfig = {MathJaxConfig: 'local'};\n",
              "        if (window.MathJax) {MathJax.Hub.Config({SVG: {font: \"STIX-Web\"}});}\n",
              "        if (typeof require !== 'undefined') {\n",
              "        require.undef(\"plotly\");\n",
              "        requirejs.config({\n",
              "            paths: {\n",
              "                'plotly': ['https://cdn.plot.ly/plotly-latest.min']\n",
              "            }\n",
              "        });\n",
              "        require(['plotly'], function(Plotly) {\n",
              "            window._Plotly = Plotly;\n",
              "        });\n",
              "        }\n",
              "        </script>\n",
              "        "
            ]
          },
          "metadata": {
            "tags": []
          }
        },
        {
          "output_type": "stream",
          "text": [
            "/usr/local/lib/python3.6/dist-packages/ipykernel_launcher.py:5: FutureWarning:\n",
            "\n",
            "Method .as_matrix will be removed in a future version. Use .values instead.\n",
            "\n"
          ],
          "name": "stderr"
        },
        {
          "output_type": "display_data",
          "data": {
            "text/html": [
              "<div>\n",
              "        \n",
              "        \n",
              "            <div id=\"93810b7e-c593-44c1-9e4f-8e30810dba76\" class=\"plotly-graph-div\" style=\"height:525px; width:100%;\"></div>\n",
              "            <script type=\"text/javascript\">\n",
              "                require([\"plotly\"], function(Plotly) {\n",
              "                    window.PLOTLYENV=window.PLOTLYENV || {};\n",
              "                    \n",
              "                if (document.getElementById(\"93810b7e-c593-44c1-9e4f-8e30810dba76\")) {\n",
              "                    Plotly.newPlot(\n",
              "                        '93810b7e-c593-44c1-9e4f-8e30810dba76',\n",
              "                        [{\"type\": \"heatmap\", \"x\": [\"Chelsea\", \"Queens\", \"JFK\", \"Midtown-North-West\", \"East Village\", \"Midtown-North-East\", \"Brooklyn-Park slope\", \"LaGuardia\", \"Midtown\", \"Downtown\", \"Queens-Astoria\", \"Harlem\", \"Upper East Side\", \"Brooklyn-Williamsburg\", \"Upper West Side\"], \"y\": [\"Chelsea\", \"Queens\", \"JFK\", \"Midtown-North-West\", \"East Village\", \"Midtown-North-East\", \"Brooklyn-Park slope\", \"LaGuardia\", \"Midtown\", \"Downtown\", \"Queens-Astoria\", \"Harlem\", \"Upper East Side\", \"Brooklyn-Williamsburg\", \"Upper West Side\", \"name\"], \"z\": [[27866, 262, 983, 18968, 10612, 7681, 6132, 1600, 35885, 22631, 2483, 2215, 8029, 2441, 8749, \"Chelsea\"], [27, 340, 111, 56, 37, 20, 5, 130, 33, 32, 54, 15, 45, 15, 42, \"Queens\"], [1922, 1318, 3231, 3585, 2118, 2453, 744, 1589, 3214, 1876, 2081, 1038, 2968, 1399, 2226, \"JFK\"], [17497, 461, 2267, 30051, 13140, 27015, 6735, 4338, 35283, 10897, 3516, 4658, 22370, 4173, 23468, \"Midtown-North-West\"], [10620, 200, 1204, 13467, 5308, 8059, 2595, 2146, 16188, 6377, 1909, 1796, 7116, 1797, 9135, \"East Village\"], [7075, 360, 1402, 24413, 7821, 24502, 3355, 2876, 15469, 5142, 3207, 6778, 37832, 5467, 19295, \"Midtown-North-East\"], [6225, 134, 467, 8310, 2861, 4038, 1492, 855, 8229, 3553, 1231, 1026, 3841, 1167, 4756, \"Brooklyn-Park slope\"], [2061, 1077, 1261, 5190, 2954, 3569, 951, 2609, 3933, 2429, 2801, 1247, 3541, 1706, 3590, \"LaGuardia\"], [37780, 545, 1932, 41656, 17348, 18108, 8672, 3382, 42473, 22990, 5044, 4541, 17283, 5079, 22242, \"Midtown\"], [20487, 205, 910, 10455, 5774, 5238, 3293, 1672, 19718, 22459, 1302, 1265, 4841, 1321, 6166, \"Downtown\"], [209, 203, 166, 380, 217, 580, 88, 1232, 389, 151, 4504, 405, 978, 1517, 360, \"Queens-Astoria\"], [853, 85, 292, 2600, 880, 4750, 424, 654, 2003, 809, 1145, 2336, 10354, 3391, 2517, \"Harlem\"], [4598, 295, 1034, 17239, 5009, 32317, 2154, 2283, 10261, 3820, 3674, 11554, 44333, 10061, 16668, \"Upper East Side\"], [434, 127, 235, 1077, 358, 1987, 199, 688, 916, 379, 2264, 2264, 5484, 4277, 1040, \"Brooklyn-Williamsburg\"], [8593, 292, 1470, 20704, 8513, 17881, 3996, 2884, 18618, 6479, 1923, 3378, 17675, 2741, 11572, \"Upper West Side\"]]}],\n",
              "                        {\"margin\": {\"b\": 100, \"l\": 150, \"r\": 100, \"t\": 100}, \"template\": {\"data\": {\"bar\": [{\"error_x\": {\"color\": \"#2a3f5f\"}, \"error_y\": {\"color\": \"#2a3f5f\"}, \"marker\": {\"line\": {\"color\": \"#E5ECF6\", \"width\": 0.5}}, \"type\": \"bar\"}], \"barpolar\": [{\"marker\": {\"line\": {\"color\": \"#E5ECF6\", \"width\": 0.5}}, \"type\": \"barpolar\"}], \"carpet\": [{\"aaxis\": {\"endlinecolor\": \"#2a3f5f\", \"gridcolor\": \"white\", \"linecolor\": \"white\", \"minorgridcolor\": \"white\", \"startlinecolor\": \"#2a3f5f\"}, \"baxis\": {\"endlinecolor\": \"#2a3f5f\", \"gridcolor\": \"white\", \"linecolor\": \"white\", \"minorgridcolor\": \"white\", \"startlinecolor\": \"#2a3f5f\"}, \"type\": \"carpet\"}], \"choropleth\": [{\"colorbar\": {\"outlinewidth\": 0, \"ticks\": \"\"}, \"type\": \"choropleth\"}], \"contour\": [{\"colorbar\": {\"outlinewidth\": 0, \"ticks\": \"\"}, \"colorscale\": [[0.0, \"#0d0887\"], [0.1111111111111111, \"#46039f\"], [0.2222222222222222, \"#7201a8\"], [0.3333333333333333, \"#9c179e\"], [0.4444444444444444, \"#bd3786\"], [0.5555555555555556, \"#d8576b\"], [0.6666666666666666, \"#ed7953\"], [0.7777777777777778, \"#fb9f3a\"], [0.8888888888888888, \"#fdca26\"], [1.0, \"#f0f921\"]], \"type\": \"contour\"}], \"contourcarpet\": [{\"colorbar\": {\"outlinewidth\": 0, \"ticks\": \"\"}, \"type\": \"contourcarpet\"}], \"heatmap\": [{\"colorbar\": {\"outlinewidth\": 0, \"ticks\": \"\"}, \"colorscale\": [[0.0, \"#0d0887\"], [0.1111111111111111, \"#46039f\"], [0.2222222222222222, \"#7201a8\"], [0.3333333333333333, \"#9c179e\"], [0.4444444444444444, \"#bd3786\"], [0.5555555555555556, \"#d8576b\"], [0.6666666666666666, \"#ed7953\"], [0.7777777777777778, \"#fb9f3a\"], [0.8888888888888888, \"#fdca26\"], [1.0, \"#f0f921\"]], \"type\": \"heatmap\"}], \"heatmapgl\": [{\"colorbar\": {\"outlinewidth\": 0, \"ticks\": \"\"}, \"colorscale\": [[0.0, \"#0d0887\"], [0.1111111111111111, \"#46039f\"], [0.2222222222222222, \"#7201a8\"], [0.3333333333333333, \"#9c179e\"], [0.4444444444444444, \"#bd3786\"], [0.5555555555555556, \"#d8576b\"], [0.6666666666666666, \"#ed7953\"], [0.7777777777777778, \"#fb9f3a\"], [0.8888888888888888, \"#fdca26\"], [1.0, \"#f0f921\"]], \"type\": \"heatmapgl\"}], \"histogram\": [{\"marker\": {\"colorbar\": {\"outlinewidth\": 0, \"ticks\": \"\"}}, \"type\": \"histogram\"}], \"histogram2d\": [{\"colorbar\": {\"outlinewidth\": 0, \"ticks\": \"\"}, \"colorscale\": [[0.0, \"#0d0887\"], [0.1111111111111111, \"#46039f\"], [0.2222222222222222, \"#7201a8\"], [0.3333333333333333, \"#9c179e\"], [0.4444444444444444, \"#bd3786\"], [0.5555555555555556, \"#d8576b\"], [0.6666666666666666, \"#ed7953\"], [0.7777777777777778, \"#fb9f3a\"], [0.8888888888888888, \"#fdca26\"], [1.0, \"#f0f921\"]], \"type\": \"histogram2d\"}], \"histogram2dcontour\": [{\"colorbar\": {\"outlinewidth\": 0, \"ticks\": \"\"}, \"colorscale\": [[0.0, \"#0d0887\"], [0.1111111111111111, \"#46039f\"], [0.2222222222222222, \"#7201a8\"], [0.3333333333333333, \"#9c179e\"], [0.4444444444444444, \"#bd3786\"], [0.5555555555555556, \"#d8576b\"], [0.6666666666666666, \"#ed7953\"], [0.7777777777777778, \"#fb9f3a\"], [0.8888888888888888, \"#fdca26\"], [1.0, \"#f0f921\"]], \"type\": \"histogram2dcontour\"}], \"mesh3d\": [{\"colorbar\": {\"outlinewidth\": 0, \"ticks\": \"\"}, \"type\": \"mesh3d\"}], \"parcoords\": [{\"line\": {\"colorbar\": {\"outlinewidth\": 0, \"ticks\": \"\"}}, \"type\": \"parcoords\"}], \"pie\": [{\"automargin\": true, \"type\": \"pie\"}], \"scatter\": [{\"marker\": {\"colorbar\": {\"outlinewidth\": 0, \"ticks\": \"\"}}, \"type\": \"scatter\"}], \"scatter3d\": [{\"line\": {\"colorbar\": {\"outlinewidth\": 0, \"ticks\": \"\"}}, \"marker\": {\"colorbar\": {\"outlinewidth\": 0, \"ticks\": \"\"}}, \"type\": \"scatter3d\"}], \"scattercarpet\": [{\"marker\": {\"colorbar\": {\"outlinewidth\": 0, \"ticks\": \"\"}}, \"type\": \"scattercarpet\"}], \"scattergeo\": [{\"marker\": {\"colorbar\": {\"outlinewidth\": 0, \"ticks\": \"\"}}, \"type\": \"scattergeo\"}], \"scattergl\": [{\"marker\": {\"colorbar\": {\"outlinewidth\": 0, \"ticks\": \"\"}}, \"type\": \"scattergl\"}], \"scattermapbox\": [{\"marker\": {\"colorbar\": {\"outlinewidth\": 0, \"ticks\": \"\"}}, \"type\": \"scattermapbox\"}], \"scatterpolar\": [{\"marker\": {\"colorbar\": {\"outlinewidth\": 0, \"ticks\": \"\"}}, \"type\": \"scatterpolar\"}], \"scatterpolargl\": [{\"marker\": {\"colorbar\": {\"outlinewidth\": 0, \"ticks\": \"\"}}, \"type\": \"scatterpolargl\"}], \"scatterternary\": [{\"marker\": {\"colorbar\": {\"outlinewidth\": 0, \"ticks\": \"\"}}, \"type\": \"scatterternary\"}], \"surface\": [{\"colorbar\": {\"outlinewidth\": 0, \"ticks\": \"\"}, \"colorscale\": [[0.0, \"#0d0887\"], [0.1111111111111111, \"#46039f\"], [0.2222222222222222, \"#7201a8\"], [0.3333333333333333, \"#9c179e\"], [0.4444444444444444, \"#bd3786\"], [0.5555555555555556, \"#d8576b\"], [0.6666666666666666, \"#ed7953\"], [0.7777777777777778, \"#fb9f3a\"], [0.8888888888888888, \"#fdca26\"], [1.0, \"#f0f921\"]], \"type\": \"surface\"}], \"table\": [{\"cells\": {\"fill\": {\"color\": \"#EBF0F8\"}, \"line\": {\"color\": \"white\"}}, \"header\": {\"fill\": {\"color\": \"#C8D4E3\"}, \"line\": {\"color\": \"white\"}}, \"type\": \"table\"}]}, \"layout\": {\"annotationdefaults\": {\"arrowcolor\": \"#2a3f5f\", \"arrowhead\": 0, \"arrowwidth\": 1}, \"coloraxis\": {\"colorbar\": {\"outlinewidth\": 0, \"ticks\": \"\"}}, \"colorscale\": {\"diverging\": [[0, \"#8e0152\"], [0.1, \"#c51b7d\"], [0.2, \"#de77ae\"], [0.3, \"#f1b6da\"], [0.4, \"#fde0ef\"], [0.5, \"#f7f7f7\"], [0.6, \"#e6f5d0\"], [0.7, \"#b8e186\"], [0.8, \"#7fbc41\"], [0.9, \"#4d9221\"], [1, \"#276419\"]], \"sequential\": [[0.0, \"#0d0887\"], [0.1111111111111111, \"#46039f\"], [0.2222222222222222, \"#7201a8\"], [0.3333333333333333, \"#9c179e\"], [0.4444444444444444, \"#bd3786\"], [0.5555555555555556, \"#d8576b\"], [0.6666666666666666, \"#ed7953\"], [0.7777777777777778, \"#fb9f3a\"], [0.8888888888888888, \"#fdca26\"], [1.0, \"#f0f921\"]], \"sequentialminus\": [[0.0, \"#0d0887\"], [0.1111111111111111, \"#46039f\"], [0.2222222222222222, \"#7201a8\"], [0.3333333333333333, \"#9c179e\"], [0.4444444444444444, \"#bd3786\"], [0.5555555555555556, \"#d8576b\"], [0.6666666666666666, \"#ed7953\"], [0.7777777777777778, \"#fb9f3a\"], [0.8888888888888888, \"#fdca26\"], [1.0, \"#f0f921\"]]}, \"colorway\": [\"#636efa\", \"#EF553B\", \"#00cc96\", \"#ab63fa\", \"#FFA15A\", \"#19d3f3\", \"#FF6692\", \"#B6E880\", \"#FF97FF\", \"#FECB52\"], \"font\": {\"color\": \"#2a3f5f\"}, \"geo\": {\"bgcolor\": \"white\", \"lakecolor\": \"white\", \"landcolor\": \"#E5ECF6\", \"showlakes\": true, \"showland\": true, \"subunitcolor\": \"white\"}, \"hoverlabel\": {\"align\": \"left\"}, \"hovermode\": \"closest\", \"mapbox\": {\"style\": \"light\"}, \"paper_bgcolor\": \"white\", \"plot_bgcolor\": \"#E5ECF6\", \"polar\": {\"angularaxis\": {\"gridcolor\": \"white\", \"linecolor\": \"white\", \"ticks\": \"\"}, \"bgcolor\": \"#E5ECF6\", \"radialaxis\": {\"gridcolor\": \"white\", \"linecolor\": \"white\", \"ticks\": \"\"}}, \"scene\": {\"xaxis\": {\"backgroundcolor\": \"#E5ECF6\", \"gridcolor\": \"white\", \"gridwidth\": 2, \"linecolor\": \"white\", \"showbackground\": true, \"ticks\": \"\", \"zerolinecolor\": \"white\"}, \"yaxis\": {\"backgroundcolor\": \"#E5ECF6\", \"gridcolor\": \"white\", \"gridwidth\": 2, \"linecolor\": \"white\", \"showbackground\": true, \"ticks\": \"\", \"zerolinecolor\": \"white\"}, \"zaxis\": {\"backgroundcolor\": \"#E5ECF6\", \"gridcolor\": \"white\", \"gridwidth\": 2, \"linecolor\": \"white\", \"showbackground\": true, \"ticks\": \"\", \"zerolinecolor\": \"white\"}}, \"shapedefaults\": {\"line\": {\"color\": \"#2a3f5f\"}}, \"ternary\": {\"aaxis\": {\"gridcolor\": \"white\", \"linecolor\": \"white\", \"ticks\": \"\"}, \"baxis\": {\"gridcolor\": \"white\", \"linecolor\": \"white\", \"ticks\": \"\"}, \"bgcolor\": \"#E5ECF6\", \"caxis\": {\"gridcolor\": \"white\", \"linecolor\": \"white\", \"ticks\": \"\"}}, \"title\": {\"x\": 0.05}, \"xaxis\": {\"automargin\": true, \"gridcolor\": \"white\", \"linecolor\": \"white\", \"ticks\": \"\", \"title\": {\"standoff\": 15}, \"zerolinecolor\": \"white\", \"zerolinewidth\": 2}, \"yaxis\": {\"automargin\": true, \"gridcolor\": \"white\", \"linecolor\": \"white\", \"ticks\": \"\", \"title\": {\"standoff\": 15}, \"zerolinecolor\": \"white\", \"zerolinewidth\": 2}}}, \"title\": {\"font\": {\"color\": \"rgb(100,100,100)\", \"size\": 30}, \"text\": \" <b>Neighborhood Interaction</b>\"}, \"xaxis\": {\"title\": {\"text\": \"<b> To </b>\"}}, \"yaxis\": {\"title\": {\"text\": \" <b> From </b>\"}}},\n",
              "                        {\"responsive\": true}\n",
              "                    ).then(function(){\n",
              "                            \n",
              "var gd = document.getElementById('93810b7e-c593-44c1-9e4f-8e30810dba76');\n",
              "var x = new MutationObserver(function (mutations, observer) {{\n",
              "        var display = window.getComputedStyle(gd).display;\n",
              "        if (!display || display === 'none') {{\n",
              "            console.log([gd, 'removed!']);\n",
              "            Plotly.purge(gd);\n",
              "            observer.disconnect();\n",
              "        }}\n",
              "}});\n",
              "\n",
              "// Listen for the removal of the full notebook cells\n",
              "var notebookContainer = gd.closest('#notebook-container');\n",
              "if (notebookContainer) {{\n",
              "    x.observe(notebookContainer, {childList: true});\n",
              "}}\n",
              "\n",
              "// Listen for the clearing of the current output cell\n",
              "var outputEl = gd.closest('.output');\n",
              "if (outputEl) {{\n",
              "    x.observe(outputEl, {childList: true});\n",
              "}}\n",
              "\n",
              "                        })\n",
              "                };\n",
              "                });\n",
              "            </script>\n",
              "        </div>"
            ],
            "application/vnd.plotly.v1+json": {
              "data": [
                {
                  "y": [
                    "Chelsea",
                    "Queens",
                    "JFK",
                    "Midtown-North-West",
                    "East Village",
                    "Midtown-North-East",
                    "Brooklyn-Park slope",
                    "LaGuardia",
                    "Midtown",
                    "Downtown",
                    "Queens-Astoria",
                    "Harlem",
                    "Upper East Side",
                    "Brooklyn-Williamsburg",
                    "Upper West Side",
                    "name"
                  ],
                  "x": [
                    "Chelsea",
                    "Queens",
                    "JFK",
                    "Midtown-North-West",
                    "East Village",
                    "Midtown-North-East",
                    "Brooklyn-Park slope",
                    "LaGuardia",
                    "Midtown",
                    "Downtown",
                    "Queens-Astoria",
                    "Harlem",
                    "Upper East Side",
                    "Brooklyn-Williamsburg",
                    "Upper West Side"
                  ],
                  "z": [
                    [
                      27866,
                      262,
                      983,
                      18968,
                      10612,
                      7681,
                      6132,
                      1600,
                      35885,
                      22631,
                      2483,
                      2215,
                      8029,
                      2441,
                      8749,
                      "Chelsea"
                    ],
                    [
                      27,
                      340,
                      111,
                      56,
                      37,
                      20,
                      5,
                      130,
                      33,
                      32,
                      54,
                      15,
                      45,
                      15,
                      42,
                      "Queens"
                    ],
                    [
                      1922,
                      1318,
                      3231,
                      3585,
                      2118,
                      2453,
                      744,
                      1589,
                      3214,
                      1876,
                      2081,
                      1038,
                      2968,
                      1399,
                      2226,
                      "JFK"
                    ],
                    [
                      17497,
                      461,
                      2267,
                      30051,
                      13140,
                      27015,
                      6735,
                      4338,
                      35283,
                      10897,
                      3516,
                      4658,
                      22370,
                      4173,
                      23468,
                      "Midtown-North-West"
                    ],
                    [
                      10620,
                      200,
                      1204,
                      13467,
                      5308,
                      8059,
                      2595,
                      2146,
                      16188,
                      6377,
                      1909,
                      1796,
                      7116,
                      1797,
                      9135,
                      "East Village"
                    ],
                    [
                      7075,
                      360,
                      1402,
                      24413,
                      7821,
                      24502,
                      3355,
                      2876,
                      15469,
                      5142,
                      3207,
                      6778,
                      37832,
                      5467,
                      19295,
                      "Midtown-North-East"
                    ],
                    [
                      6225,
                      134,
                      467,
                      8310,
                      2861,
                      4038,
                      1492,
                      855,
                      8229,
                      3553,
                      1231,
                      1026,
                      3841,
                      1167,
                      4756,
                      "Brooklyn-Park slope"
                    ],
                    [
                      2061,
                      1077,
                      1261,
                      5190,
                      2954,
                      3569,
                      951,
                      2609,
                      3933,
                      2429,
                      2801,
                      1247,
                      3541,
                      1706,
                      3590,
                      "LaGuardia"
                    ],
                    [
                      37780,
                      545,
                      1932,
                      41656,
                      17348,
                      18108,
                      8672,
                      3382,
                      42473,
                      22990,
                      5044,
                      4541,
                      17283,
                      5079,
                      22242,
                      "Midtown"
                    ],
                    [
                      20487,
                      205,
                      910,
                      10455,
                      5774,
                      5238,
                      3293,
                      1672,
                      19718,
                      22459,
                      1302,
                      1265,
                      4841,
                      1321,
                      6166,
                      "Downtown"
                    ],
                    [
                      209,
                      203,
                      166,
                      380,
                      217,
                      580,
                      88,
                      1232,
                      389,
                      151,
                      4504,
                      405,
                      978,
                      1517,
                      360,
                      "Queens-Astoria"
                    ],
                    [
                      853,
                      85,
                      292,
                      2600,
                      880,
                      4750,
                      424,
                      654,
                      2003,
                      809,
                      1145,
                      2336,
                      10354,
                      3391,
                      2517,
                      "Harlem"
                    ],
                    [
                      4598,
                      295,
                      1034,
                      17239,
                      5009,
                      32317,
                      2154,
                      2283,
                      10261,
                      3820,
                      3674,
                      11554,
                      44333,
                      10061,
                      16668,
                      "Upper East Side"
                    ],
                    [
                      434,
                      127,
                      235,
                      1077,
                      358,
                      1987,
                      199,
                      688,
                      916,
                      379,
                      2264,
                      2264,
                      5484,
                      4277,
                      1040,
                      "Brooklyn-Williamsburg"
                    ],
                    [
                      8593,
                      292,
                      1470,
                      20704,
                      8513,
                      17881,
                      3996,
                      2884,
                      18618,
                      6479,
                      1923,
                      3378,
                      17675,
                      2741,
                      11572,
                      "Upper West Side"
                    ]
                  ],
                  "type": "heatmap"
                }
              ],
              "config": {
                "plotlyServerURL": "https://plot.ly",
                "linkText": "Export to plot.ly",
                "showLink": false
              },
              "layout": {
                "yaxis": {
                  "title": {
                    "text": " <b> From </b>"
                  }
                },
                "margin": {
                  "r": 100,
                  "b": 100,
                  "l": 150,
                  "t": 100
                },
                "xaxis": {
                  "title": {
                    "text": "<b> To </b>"
                  }
                },
                "template": {
                  "layout": {
                    "shapedefaults": {
                      "line": {
                        "color": "#2a3f5f"
                      }
                    },
                    "polar": {
                      "radialaxis": {
                        "ticks": "",
                        "gridcolor": "white",
                        "linecolor": "white"
                      },
                      "bgcolor": "#E5ECF6",
                      "angularaxis": {
                        "ticks": "",
                        "gridcolor": "white",
                        "linecolor": "white"
                      }
                    },
                    "colorway": [
                      "#636efa",
                      "#EF553B",
                      "#00cc96",
                      "#ab63fa",
                      "#FFA15A",
                      "#19d3f3",
                      "#FF6692",
                      "#B6E880",
                      "#FF97FF",
                      "#FECB52"
                    ],
                    "xaxis": {
                      "automargin": true,
                      "title": {
                        "standoff": 15
                      },
                      "zerolinewidth": 2,
                      "ticks": "",
                      "zerolinecolor": "white",
                      "gridcolor": "white",
                      "linecolor": "white"
                    },
                    "colorscale": {
                      "diverging": [
                        [
                          0,
                          "#8e0152"
                        ],
                        [
                          0.1,
                          "#c51b7d"
                        ],
                        [
                          0.2,
                          "#de77ae"
                        ],
                        [
                          0.3,
                          "#f1b6da"
                        ],
                        [
                          0.4,
                          "#fde0ef"
                        ],
                        [
                          0.5,
                          "#f7f7f7"
                        ],
                        [
                          0.6,
                          "#e6f5d0"
                        ],
                        [
                          0.7,
                          "#b8e186"
                        ],
                        [
                          0.8,
                          "#7fbc41"
                        ],
                        [
                          0.9,
                          "#4d9221"
                        ],
                        [
                          1,
                          "#276419"
                        ]
                      ],
                      "sequential": [
                        [
                          0,
                          "#0d0887"
                        ],
                        [
                          0.1111111111111111,
                          "#46039f"
                        ],
                        [
                          0.2222222222222222,
                          "#7201a8"
                        ],
                        [
                          0.3333333333333333,
                          "#9c179e"
                        ],
                        [
                          0.4444444444444444,
                          "#bd3786"
                        ],
                        [
                          0.5555555555555556,
                          "#d8576b"
                        ],
                        [
                          0.6666666666666666,
                          "#ed7953"
                        ],
                        [
                          0.7777777777777778,
                          "#fb9f3a"
                        ],
                        [
                          0.8888888888888888,
                          "#fdca26"
                        ],
                        [
                          1,
                          "#f0f921"
                        ]
                      ],
                      "sequentialminus": [
                        [
                          0,
                          "#0d0887"
                        ],
                        [
                          0.1111111111111111,
                          "#46039f"
                        ],
                        [
                          0.2222222222222222,
                          "#7201a8"
                        ],
                        [
                          0.3333333333333333,
                          "#9c179e"
                        ],
                        [
                          0.4444444444444444,
                          "#bd3786"
                        ],
                        [
                          0.5555555555555556,
                          "#d8576b"
                        ],
                        [
                          0.6666666666666666,
                          "#ed7953"
                        ],
                        [
                          0.7777777777777778,
                          "#fb9f3a"
                        ],
                        [
                          0.8888888888888888,
                          "#fdca26"
                        ],
                        [
                          1,
                          "#f0f921"
                        ]
                      ]
                    },
                    "paper_bgcolor": "white",
                    "plot_bgcolor": "#E5ECF6",
                    "title": {
                      "x": 0.05
                    },
                    "scene": {
                      "zaxis": {
                        "backgroundcolor": "#E5ECF6",
                        "ticks": "",
                        "gridwidth": 2,
                        "showbackground": true,
                        "zerolinecolor": "white",
                        "gridcolor": "white",
                        "linecolor": "white"
                      },
                      "xaxis": {
                        "backgroundcolor": "#E5ECF6",
                        "ticks": "",
                        "gridwidth": 2,
                        "showbackground": true,
                        "zerolinecolor": "white",
                        "gridcolor": "white",
                        "linecolor": "white"
                      },
                      "yaxis": {
                        "backgroundcolor": "#E5ECF6",
                        "ticks": "",
                        "gridwidth": 2,
                        "showbackground": true,
                        "zerolinecolor": "white",
                        "gridcolor": "white",
                        "linecolor": "white"
                      }
                    },
                    "yaxis": {
                      "automargin": true,
                      "title": {
                        "standoff": 15
                      },
                      "zerolinewidth": 2,
                      "ticks": "",
                      "zerolinecolor": "white",
                      "gridcolor": "white",
                      "linecolor": "white"
                    },
                    "annotationdefaults": {
                      "arrowwidth": 1,
                      "arrowhead": 0,
                      "arrowcolor": "#2a3f5f"
                    },
                    "hoverlabel": {
                      "align": "left"
                    },
                    "ternary": {
                      "bgcolor": "#E5ECF6",
                      "baxis": {
                        "ticks": "",
                        "gridcolor": "white",
                        "linecolor": "white"
                      },
                      "caxis": {
                        "ticks": "",
                        "gridcolor": "white",
                        "linecolor": "white"
                      },
                      "aaxis": {
                        "ticks": "",
                        "gridcolor": "white",
                        "linecolor": "white"
                      }
                    },
                    "mapbox": {
                      "style": "light"
                    },
                    "hovermode": "closest",
                    "font": {
                      "color": "#2a3f5f"
                    },
                    "geo": {
                      "showland": true,
                      "landcolor": "#E5ECF6",
                      "showlakes": true,
                      "bgcolor": "white",
                      "subunitcolor": "white",
                      "lakecolor": "white"
                    },
                    "coloraxis": {
                      "colorbar": {
                        "outlinewidth": 0,
                        "ticks": ""
                      }
                    }
                  },
                  "data": {
                    "mesh3d": [
                      {
                        "colorbar": {
                          "outlinewidth": 0,
                          "ticks": ""
                        },
                        "type": "mesh3d"
                      }
                    ],
                    "scattercarpet": [
                      {
                        "marker": {
                          "colorbar": {
                            "outlinewidth": 0,
                            "ticks": ""
                          }
                        },
                        "type": "scattercarpet"
                      }
                    ],
                    "pie": [
                      {
                        "automargin": true,
                        "type": "pie"
                      }
                    ],
                    "surface": [
                      {
                        "colorbar": {
                          "outlinewidth": 0,
                          "ticks": ""
                        },
                        "type": "surface",
                        "colorscale": [
                          [
                            0,
                            "#0d0887"
                          ],
                          [
                            0.1111111111111111,
                            "#46039f"
                          ],
                          [
                            0.2222222222222222,
                            "#7201a8"
                          ],
                          [
                            0.3333333333333333,
                            "#9c179e"
                          ],
                          [
                            0.4444444444444444,
                            "#bd3786"
                          ],
                          [
                            0.5555555555555556,
                            "#d8576b"
                          ],
                          [
                            0.6666666666666666,
                            "#ed7953"
                          ],
                          [
                            0.7777777777777778,
                            "#fb9f3a"
                          ],
                          [
                            0.8888888888888888,
                            "#fdca26"
                          ],
                          [
                            1,
                            "#f0f921"
                          ]
                        ]
                      }
                    ],
                    "table": [
                      {
                        "header": {
                          "line": {
                            "color": "white"
                          },
                          "fill": {
                            "color": "#C8D4E3"
                          }
                        },
                        "cells": {
                          "line": {
                            "color": "white"
                          },
                          "fill": {
                            "color": "#EBF0F8"
                          }
                        },
                        "type": "table"
                      }
                    ],
                    "scatterpolargl": [
                      {
                        "marker": {
                          "colorbar": {
                            "outlinewidth": 0,
                            "ticks": ""
                          }
                        },
                        "type": "scatterpolargl"
                      }
                    ],
                    "contour": [
                      {
                        "colorbar": {
                          "outlinewidth": 0,
                          "ticks": ""
                        },
                        "type": "contour",
                        "colorscale": [
                          [
                            0,
                            "#0d0887"
                          ],
                          [
                            0.1111111111111111,
                            "#46039f"
                          ],
                          [
                            0.2222222222222222,
                            "#7201a8"
                          ],
                          [
                            0.3333333333333333,
                            "#9c179e"
                          ],
                          [
                            0.4444444444444444,
                            "#bd3786"
                          ],
                          [
                            0.5555555555555556,
                            "#d8576b"
                          ],
                          [
                            0.6666666666666666,
                            "#ed7953"
                          ],
                          [
                            0.7777777777777778,
                            "#fb9f3a"
                          ],
                          [
                            0.8888888888888888,
                            "#fdca26"
                          ],
                          [
                            1,
                            "#f0f921"
                          ]
                        ]
                      }
                    ],
                    "carpet": [
                      {
                        "type": "carpet",
                        "baxis": {
                          "minorgridcolor": "white",
                          "gridcolor": "white",
                          "linecolor": "white",
                          "endlinecolor": "#2a3f5f",
                          "startlinecolor": "#2a3f5f"
                        },
                        "aaxis": {
                          "minorgridcolor": "white",
                          "gridcolor": "white",
                          "linecolor": "white",
                          "endlinecolor": "#2a3f5f",
                          "startlinecolor": "#2a3f5f"
                        }
                      }
                    ],
                    "contourcarpet": [
                      {
                        "colorbar": {
                          "outlinewidth": 0,
                          "ticks": ""
                        },
                        "type": "contourcarpet"
                      }
                    ],
                    "heatmap": [
                      {
                        "colorbar": {
                          "outlinewidth": 0,
                          "ticks": ""
                        },
                        "type": "heatmap",
                        "colorscale": [
                          [
                            0,
                            "#0d0887"
                          ],
                          [
                            0.1111111111111111,
                            "#46039f"
                          ],
                          [
                            0.2222222222222222,
                            "#7201a8"
                          ],
                          [
                            0.3333333333333333,
                            "#9c179e"
                          ],
                          [
                            0.4444444444444444,
                            "#bd3786"
                          ],
                          [
                            0.5555555555555556,
                            "#d8576b"
                          ],
                          [
                            0.6666666666666666,
                            "#ed7953"
                          ],
                          [
                            0.7777777777777778,
                            "#fb9f3a"
                          ],
                          [
                            0.8888888888888888,
                            "#fdca26"
                          ],
                          [
                            1,
                            "#f0f921"
                          ]
                        ]
                      }
                    ],
                    "scattermapbox": [
                      {
                        "marker": {
                          "colorbar": {
                            "outlinewidth": 0,
                            "ticks": ""
                          }
                        },
                        "type": "scattermapbox"
                      }
                    ],
                    "scatter3d": [
                      {
                        "marker": {
                          "colorbar": {
                            "outlinewidth": 0,
                            "ticks": ""
                          }
                        },
                        "line": {
                          "colorbar": {
                            "outlinewidth": 0,
                            "ticks": ""
                          }
                        },
                        "type": "scatter3d"
                      }
                    ],
                    "scattergl": [
                      {
                        "marker": {
                          "colorbar": {
                            "outlinewidth": 0,
                            "ticks": ""
                          }
                        },
                        "type": "scattergl"
                      }
                    ],
                    "scatterternary": [
                      {
                        "marker": {
                          "colorbar": {
                            "outlinewidth": 0,
                            "ticks": ""
                          }
                        },
                        "type": "scatterternary"
                      }
                    ],
                    "histogram": [
                      {
                        "marker": {
                          "colorbar": {
                            "outlinewidth": 0,
                            "ticks": ""
                          }
                        },
                        "type": "histogram"
                      }
                    ],
                    "heatmapgl": [
                      {
                        "colorbar": {
                          "outlinewidth": 0,
                          "ticks": ""
                        },
                        "type": "heatmapgl",
                        "colorscale": [
                          [
                            0,
                            "#0d0887"
                          ],
                          [
                            0.1111111111111111,
                            "#46039f"
                          ],
                          [
                            0.2222222222222222,
                            "#7201a8"
                          ],
                          [
                            0.3333333333333333,
                            "#9c179e"
                          ],
                          [
                            0.4444444444444444,
                            "#bd3786"
                          ],
                          [
                            0.5555555555555556,
                            "#d8576b"
                          ],
                          [
                            0.6666666666666666,
                            "#ed7953"
                          ],
                          [
                            0.7777777777777778,
                            "#fb9f3a"
                          ],
                          [
                            0.8888888888888888,
                            "#fdca26"
                          ],
                          [
                            1,
                            "#f0f921"
                          ]
                        ]
                      }
                    ],
                    "scatterpolar": [
                      {
                        "marker": {
                          "colorbar": {
                            "outlinewidth": 0,
                            "ticks": ""
                          }
                        },
                        "type": "scatterpolar"
                      }
                    ],
                    "histogram2d": [
                      {
                        "colorbar": {
                          "outlinewidth": 0,
                          "ticks": ""
                        },
                        "type": "histogram2d",
                        "colorscale": [
                          [
                            0,
                            "#0d0887"
                          ],
                          [
                            0.1111111111111111,
                            "#46039f"
                          ],
                          [
                            0.2222222222222222,
                            "#7201a8"
                          ],
                          [
                            0.3333333333333333,
                            "#9c179e"
                          ],
                          [
                            0.4444444444444444,
                            "#bd3786"
                          ],
                          [
                            0.5555555555555556,
                            "#d8576b"
                          ],
                          [
                            0.6666666666666666,
                            "#ed7953"
                          ],
                          [
                            0.7777777777777778,
                            "#fb9f3a"
                          ],
                          [
                            0.8888888888888888,
                            "#fdca26"
                          ],
                          [
                            1,
                            "#f0f921"
                          ]
                        ]
                      }
                    ],
                    "scattergeo": [
                      {
                        "marker": {
                          "colorbar": {
                            "outlinewidth": 0,
                            "ticks": ""
                          }
                        },
                        "type": "scattergeo"
                      }
                    ],
                    "bar": [
                      {
                        "marker": {
                          "line": {
                            "color": "#E5ECF6",
                            "width": 0.5
                          }
                        },
                        "type": "bar",
                        "error_x": {
                          "color": "#2a3f5f"
                        },
                        "error_y": {
                          "color": "#2a3f5f"
                        }
                      }
                    ],
                    "choropleth": [
                      {
                        "colorbar": {
                          "outlinewidth": 0,
                          "ticks": ""
                        },
                        "type": "choropleth"
                      }
                    ],
                    "parcoords": [
                      {
                        "line": {
                          "colorbar": {
                            "outlinewidth": 0,
                            "ticks": ""
                          }
                        },
                        "type": "parcoords"
                      }
                    ],
                    "barpolar": [
                      {
                        "marker": {
                          "line": {
                            "color": "#E5ECF6",
                            "width": 0.5
                          }
                        },
                        "type": "barpolar"
                      }
                    ],
                    "histogram2dcontour": [
                      {
                        "colorbar": {
                          "outlinewidth": 0,
                          "ticks": ""
                        },
                        "type": "histogram2dcontour",
                        "colorscale": [
                          [
                            0,
                            "#0d0887"
                          ],
                          [
                            0.1111111111111111,
                            "#46039f"
                          ],
                          [
                            0.2222222222222222,
                            "#7201a8"
                          ],
                          [
                            0.3333333333333333,
                            "#9c179e"
                          ],
                          [
                            0.4444444444444444,
                            "#bd3786"
                          ],
                          [
                            0.5555555555555556,
                            "#d8576b"
                          ],
                          [
                            0.6666666666666666,
                            "#ed7953"
                          ],
                          [
                            0.7777777777777778,
                            "#fb9f3a"
                          ],
                          [
                            0.8888888888888888,
                            "#fdca26"
                          ],
                          [
                            1,
                            "#f0f921"
                          ]
                        ]
                      }
                    ],
                    "scatter": [
                      {
                        "marker": {
                          "colorbar": {
                            "outlinewidth": 0,
                            "ticks": ""
                          }
                        },
                        "type": "scatter"
                      }
                    ]
                  }
                },
                "title": {
                  "text": " <b>Neighborhood Interaction</b>",
                  "font": {
                    "color": "rgb(100,100,100)",
                    "size": 30
                  }
                }
              }
            }
          },
          "metadata": {
            "tags": []
          }
        }
      ]
    },
    {
      "cell_type": "code",
      "metadata": {
        "id": "tIc9f4H8E-zZ",
        "colab_type": "code",
        "colab": {
          "base_uri": "https://localhost:8080/",
          "height": 276
        },
        "outputId": "9872105b-7d91-4859-fbb1-4953dc34d341"
      },
      "source": [
        "data_passenger = df_taxi['passenger_count'].value_counts().sort_index()\n",
        "data_passenger.plot(kind='bar')\n",
        "plt.xlabel('passenger_count')\n",
        "\n",
        "plt.show()"
      ],
      "execution_count": 32,
      "outputs": [
        {
          "output_type": "display_data",
          "data": {
            "image/png": "[encoded data removed]",
            "text/plain": [
              "<Figure size 432x288 with 1 Axes>"
            ]
          },
          "metadata": {
            "tags": []
          }
        }
      ]
    },
    {
      "cell_type": "markdown",
      "metadata": {
        "id": "NlX7TkMjOcej",
        "colab_type": "text"
      },
      "source": [
        "## 2.2 Demand"
      ]
    },
    {
      "cell_type": "markdown",
      "metadata": {
        "id": "3gr_sNfBRiKL",
        "colab_type": "text"
      },
      "source": [
        "We want to sort pickups into high demand neighborhoods/regions.  <br>\n",
        "We can count the number of pickups at each neighborhood.\n",
        "We've defined the regions as neighborhoods "
      ]
    },
    {
      "cell_type": "code",
      "metadata": {
        "id": "UpgwBpufidiH",
        "colab_type": "code",
        "colab": {}
      },
      "source": [
        "import numpy as np\n",
        "%matplotlib inline\n",
        "import glob\n",
        "import csv\n",
        "import pandas as pd\n",
        "import re\n",
        "import datetime\n",
        "import glob\n",
        "import matplotlib.pyplot as plt"
      ],
      "execution_count": 0,
      "outputs": []
    },
    {
      "cell_type": "code",
      "metadata": {
        "id": "u2ecEptyOkkg",
        "colab_type": "code",
        "colab": {
          "base_uri": "https://localhost:8080/",
          "height": 85
        },
        "outputId": "c0e92d92-f418-4e9d-97fd-e26e001c317c"
      },
      "source": [
        "print(df_taxi['pickup_neighborhood'].unique())"
      ],
      "execution_count": 34,
      "outputs": [
        {
          "output_type": "stream",
          "text": [
            "['Midtown-North-West' 'Downtown' 'Upper West Side' 'Midtown-North-East'\n",
            " 'Chelsea' 'Midtown' 'Upper East Side' 'East Village'\n",
            " 'Brooklyn-Williamsburg' 'JFK' 'Harlem' 'LaGuardia' 'Brooklyn-Park slope'\n",
            " 'Queens-Astoria' 'Queens']\n"
          ],
          "name": "stdout"
        }
      ]
    },
    {
      "cell_type": "code",
      "metadata": {
        "id": "c1uiNiydbMWn",
        "colab_type": "code",
        "colab": {
          "base_uri": "https://localhost:8080/",
          "height": 306
        },
        "outputId": "46711005-69c2-47e5-80b3-c1449ff109b6"
      },
      "source": [
        "# group by pickup neighborhood, sorted by id counts\n",
        "\n",
        "# hood_groups = df_taxi.groupby('pickup_neighborhood').count().reset_index()\n",
        "# hood_groups.sort_values('id', ascending=False)\n",
        "df_taxi.groupby('pickup_neighborhood')['id'].count().sort_values(ascending=False)"
      ],
      "execution_count": 35,
      "outputs": [
        {
          "output_type": "execute_result",
          "data": {
            "text/plain": [
              "pickup_neighborhood\n",
              "Midtown                  249075\n",
              "Midtown-North-West       205869\n",
              "Upper East Side          165300\n",
              "Midtown-North-East       164994\n",
              "Chelsea                  156537\n",
              "Upper West Side          126719\n",
              "Downtown                 105106\n",
              "East Village              87917\n",
              "Brooklyn-Park slope       48185\n",
              "LaGuardia                 38919\n",
              "Harlem                    33093\n",
              "JFK                       31762\n",
              "Brooklyn-Williamsburg     21729\n",
              "Queens-Astoria            11379\n",
              "Queens                      962\n",
              "Name: id, dtype: int64"
            ]
          },
          "metadata": {
            "tags": []
          },
          "execution_count": 35
        }
      ]
    },
    {
      "cell_type": "code",
      "metadata": {
        "id": "-a-jslqVofZ5",
        "colab_type": "code",
        "colab": {
          "base_uri": "https://localhost:8080/",
          "height": 504
        },
        "outputId": "cfa3b051-bd49-42a8-d63f-0a196989cf0e"
      },
      "source": [
        "# need to groupby hourly \n",
        "# df_taxi[['dow_pickup','hh_pickup','pickup_neighborhood','trip_duration']].groupby(['dow_pickup','hh_pickup']).count()\n",
        "\n",
        "df_taxi_hood = df_taxi.groupby(['dow_pickup','hh_pickup','pickup_neighborhood']).size().unstack(fill_value=0)\n",
        "df_taxi_hood"
      ],
      "execution_count": 36,
      "outputs": [
        {
          "output_type": "execute_result",
          "data": {
            "text/html": [
              "<div>\n",
              "<style scoped>\n",
              "    .dataframe tbody tr th:only-of-type {\n",
              "        vertical-align: middle;\n",
              "    }\n",
              "\n",
              "    .dataframe tbody tr th {\n",
              "        vertical-align: top;\n",
              "    }\n",
              "\n",
              "    .dataframe thead th {\n",
              "        text-align: right;\n",
              "    }\n",
              "</style>\n",
              "<table border=\"1\" class=\"dataframe\">\n",
              "  <thead>\n",
              "    <tr style=\"text-align: right;\">\n",
              "      <th></th>\n",
              "      <th>pickup_neighborhood</th>\n",
              "      <th>Brooklyn-Park slope</th>\n",
              "      <th>Brooklyn-Williamsburg</th>\n",
              "      <th>Chelsea</th>\n",
              "      <th>Downtown</th>\n",
              "      <th>East Village</th>\n",
              "      <th>Harlem</th>\n",
              "      <th>JFK</th>\n",
              "      <th>LaGuardia</th>\n",
              "      <th>Midtown</th>\n",
              "      <th>Midtown-North-East</th>\n",
              "      <th>Midtown-North-West</th>\n",
              "      <th>Queens</th>\n",
              "      <th>Queens-Astoria</th>\n",
              "      <th>Upper East Side</th>\n",
              "      <th>Upper West Side</th>\n",
              "    </tr>\n",
              "    <tr>\n",
              "      <th>dow_pickup</th>\n",
              "      <th>hh_pickup</th>\n",
              "      <th></th>\n",
              "      <th></th>\n",
              "      <th></th>\n",
              "      <th></th>\n",
              "      <th></th>\n",
              "      <th></th>\n",
              "      <th></th>\n",
              "      <th></th>\n",
              "      <th></th>\n",
              "      <th></th>\n",
              "      <th></th>\n",
              "      <th></th>\n",
              "      <th></th>\n",
              "      <th></th>\n",
              "      <th></th>\n",
              "    </tr>\n",
              "  </thead>\n",
              "  <tbody>\n",
              "    <tr>\n",
              "      <th rowspan=\"5\" valign=\"top\">0</th>\n",
              "      <th>0</th>\n",
              "      <td>184</td>\n",
              "      <td>99</td>\n",
              "      <td>548</td>\n",
              "      <td>263</td>\n",
              "      <td>280</td>\n",
              "      <td>86</td>\n",
              "      <td>262</td>\n",
              "      <td>258</td>\n",
              "      <td>926</td>\n",
              "      <td>284</td>\n",
              "      <td>403</td>\n",
              "      <td>5</td>\n",
              "      <td>64</td>\n",
              "      <td>333</td>\n",
              "      <td>259</td>\n",
              "    </tr>\n",
              "    <tr>\n",
              "      <th>1</th>\n",
              "      <td>153</td>\n",
              "      <td>57</td>\n",
              "      <td>350</td>\n",
              "      <td>149</td>\n",
              "      <td>174</td>\n",
              "      <td>40</td>\n",
              "      <td>120</td>\n",
              "      <td>60</td>\n",
              "      <td>585</td>\n",
              "      <td>186</td>\n",
              "      <td>280</td>\n",
              "      <td>4</td>\n",
              "      <td>73</td>\n",
              "      <td>190</td>\n",
              "      <td>127</td>\n",
              "    </tr>\n",
              "    <tr>\n",
              "      <th>2</th>\n",
              "      <td>89</td>\n",
              "      <td>24</td>\n",
              "      <td>294</td>\n",
              "      <td>117</td>\n",
              "      <td>138</td>\n",
              "      <td>36</td>\n",
              "      <td>39</td>\n",
              "      <td>22</td>\n",
              "      <td>353</td>\n",
              "      <td>97</td>\n",
              "      <td>166</td>\n",
              "      <td>5</td>\n",
              "      <td>49</td>\n",
              "      <td>134</td>\n",
              "      <td>69</td>\n",
              "    </tr>\n",
              "    <tr>\n",
              "      <th>3</th>\n",
              "      <td>74</td>\n",
              "      <td>35</td>\n",
              "      <td>213</td>\n",
              "      <td>91</td>\n",
              "      <td>79</td>\n",
              "      <td>17</td>\n",
              "      <td>15</td>\n",
              "      <td>22</td>\n",
              "      <td>281</td>\n",
              "      <td>68</td>\n",
              "      <td>134</td>\n",
              "      <td>2</td>\n",
              "      <td>30</td>\n",
              "      <td>98</td>\n",
              "      <td>53</td>\n",
              "    </tr>\n",
              "    <tr>\n",
              "      <th>4</th>\n",
              "      <td>74</td>\n",
              "      <td>43</td>\n",
              "      <td>191</td>\n",
              "      <td>69</td>\n",
              "      <td>111</td>\n",
              "      <td>34</td>\n",
              "      <td>24</td>\n",
              "      <td>20</td>\n",
              "      <td>243</td>\n",
              "      <td>91</td>\n",
              "      <td>169</td>\n",
              "      <td>3</td>\n",
              "      <td>56</td>\n",
              "      <td>129</td>\n",
              "      <td>68</td>\n",
              "    </tr>\n",
              "    <tr>\n",
              "      <th>...</th>\n",
              "      <th>...</th>\n",
              "      <td>...</td>\n",
              "      <td>...</td>\n",
              "      <td>...</td>\n",
              "      <td>...</td>\n",
              "      <td>...</td>\n",
              "      <td>...</td>\n",
              "      <td>...</td>\n",
              "      <td>...</td>\n",
              "      <td>...</td>\n",
              "      <td>...</td>\n",
              "      <td>...</td>\n",
              "      <td>...</td>\n",
              "      <td>...</td>\n",
              "      <td>...</td>\n",
              "      <td>...</td>\n",
              "    </tr>\n",
              "    <tr>\n",
              "      <th rowspan=\"5\" valign=\"top\">6</th>\n",
              "      <th>19</th>\n",
              "      <td>349</td>\n",
              "      <td>119</td>\n",
              "      <td>1124</td>\n",
              "      <td>646</td>\n",
              "      <td>585</td>\n",
              "      <td>192</td>\n",
              "      <td>349</td>\n",
              "      <td>394</td>\n",
              "      <td>1915</td>\n",
              "      <td>990</td>\n",
              "      <td>1423</td>\n",
              "      <td>7</td>\n",
              "      <td>46</td>\n",
              "      <td>971</td>\n",
              "      <td>856</td>\n",
              "    </tr>\n",
              "    <tr>\n",
              "      <th>20</th>\n",
              "      <td>342</td>\n",
              "      <td>117</td>\n",
              "      <td>1040</td>\n",
              "      <td>557</td>\n",
              "      <td>576</td>\n",
              "      <td>165</td>\n",
              "      <td>359</td>\n",
              "      <td>415</td>\n",
              "      <td>1780</td>\n",
              "      <td>786</td>\n",
              "      <td>1235</td>\n",
              "      <td>4</td>\n",
              "      <td>57</td>\n",
              "      <td>890</td>\n",
              "      <td>729</td>\n",
              "    </tr>\n",
              "    <tr>\n",
              "      <th>21</th>\n",
              "      <td>302</td>\n",
              "      <td>125</td>\n",
              "      <td>1003</td>\n",
              "      <td>514</td>\n",
              "      <td>579</td>\n",
              "      <td>149</td>\n",
              "      <td>391</td>\n",
              "      <td>438</td>\n",
              "      <td>1817</td>\n",
              "      <td>696</td>\n",
              "      <td>1168</td>\n",
              "      <td>7</td>\n",
              "      <td>55</td>\n",
              "      <td>748</td>\n",
              "      <td>670</td>\n",
              "    </tr>\n",
              "    <tr>\n",
              "      <th>22</th>\n",
              "      <td>310</td>\n",
              "      <td>132</td>\n",
              "      <td>955</td>\n",
              "      <td>441</td>\n",
              "      <td>534</td>\n",
              "      <td>145</td>\n",
              "      <td>359</td>\n",
              "      <td>422</td>\n",
              "      <td>1710</td>\n",
              "      <td>562</td>\n",
              "      <td>994</td>\n",
              "      <td>6</td>\n",
              "      <td>69</td>\n",
              "      <td>633</td>\n",
              "      <td>544</td>\n",
              "    </tr>\n",
              "    <tr>\n",
              "      <th>23</th>\n",
              "      <td>231</td>\n",
              "      <td>133</td>\n",
              "      <td>805</td>\n",
              "      <td>341</td>\n",
              "      <td>443</td>\n",
              "      <td>145</td>\n",
              "      <td>350</td>\n",
              "      <td>436</td>\n",
              "      <td>1274</td>\n",
              "      <td>422</td>\n",
              "      <td>743</td>\n",
              "      <td>8</td>\n",
              "      <td>85</td>\n",
              "      <td>467</td>\n",
              "      <td>411</td>\n",
              "    </tr>\n",
              "  </tbody>\n",
              "</table>\n",
              "<p>168 rows × 15 columns</p>\n",
              "</div>"
            ],
            "text/plain": [
              "pickup_neighborhood   Brooklyn-Park slope  ...  Upper West Side\n",
              "dow_pickup hh_pickup                       ...                 \n",
              "0          0                          184  ...              259\n",
              "           1                          153  ...              127\n",
              "           2                           89  ...               69\n",
              "           3                           74  ...               53\n",
              "           4                           74  ...               68\n",
              "...                                   ...  ...              ...\n",
              "6          19                         349  ...              856\n",
              "           20                         342  ...              729\n",
              "           21                         302  ...              670\n",
              "           22                         310  ...              544\n",
              "           23                         231  ...              411\n",
              "\n",
              "[168 rows x 15 columns]"
            ]
          },
          "metadata": {
            "tags": []
          },
          "execution_count": 36
        }
      ]
    },
    {
      "cell_type": "code",
      "metadata": {
        "id": "dvJFEmA1F6co",
        "colab_type": "code",
        "colab": {
          "base_uri": "https://localhost:8080/",
          "height": 439
        },
        "outputId": "a318c0bf-b594-4478-d6fb-ffab09c0b320"
      },
      "source": [
        "df_taxi.groupby(['dow_pickup','hh_pickup','pickup_neighborhood'], as_index=False).sum()"
      ],
      "execution_count": 44,
      "outputs": [
        {
          "output_type": "execute_result",
          "data": {
            "text/html": [
              "<div>\n",
              "<style scoped>\n",
              "    .dataframe tbody tr th:only-of-type {\n",
              "        vertical-align: middle;\n",
              "    }\n",
              "\n",
              "    .dataframe tbody tr th {\n",
              "        vertical-align: top;\n",
              "    }\n",
              "\n",
              "    .dataframe thead th {\n",
              "        text-align: right;\n",
              "    }\n",
              "</style>\n",
              "<table border=\"1\" class=\"dataframe\">\n",
              "  <thead>\n",
              "    <tr style=\"text-align: right;\">\n",
              "      <th></th>\n",
              "      <th>dow_pickup</th>\n",
              "      <th>hh_pickup</th>\n",
              "      <th>pickup_neighborhood</th>\n",
              "      <th>vendor_id</th>\n",
              "      <th>passenger_count</th>\n",
              "      <th>pickup_longitude</th>\n",
              "      <th>pickup_latitude</th>\n",
              "      <th>dropoff_longitude</th>\n",
              "      <th>dropoff_latitude</th>\n",
              "      <th>trip_duration</th>\n",
              "      <th>mm_pickup</th>\n",
              "      <th>mm_dropoff</th>\n",
              "      <th>dow_dropoff</th>\n",
              "      <th>hh_dropoff</th>\n",
              "      <th>distance_miles</th>\n",
              "    </tr>\n",
              "  </thead>\n",
              "  <tbody>\n",
              "    <tr>\n",
              "      <th>0</th>\n",
              "      <td>0</td>\n",
              "      <td>0</td>\n",
              "      <td>Brooklyn-Park slope</td>\n",
              "      <td>271</td>\n",
              "      <td>294</td>\n",
              "      <td>-13613.652832</td>\n",
              "      <td>7496.328667</td>\n",
              "      <td>-13610.628685</td>\n",
              "      <td>7496.849224</td>\n",
              "      <td>118821</td>\n",
              "      <td>671.0</td>\n",
              "      <td>671.0</td>\n",
              "      <td>0.0</td>\n",
              "      <td>29.0</td>\n",
              "      <td>423.604326</td>\n",
              "    </tr>\n",
              "    <tr>\n",
              "      <th>1</th>\n",
              "      <td>0</td>\n",
              "      <td>0</td>\n",
              "      <td>Brooklyn-Williamsburg</td>\n",
              "      <td>158</td>\n",
              "      <td>174</td>\n",
              "      <td>-7320.155151</td>\n",
              "      <td>4037.667484</td>\n",
              "      <td>-7320.241440</td>\n",
              "      <td>4037.252987</td>\n",
              "      <td>59073</td>\n",
              "      <td>371.0</td>\n",
              "      <td>371.0</td>\n",
              "      <td>0.0</td>\n",
              "      <td>10.0</td>\n",
              "      <td>190.700155</td>\n",
              "    </tr>\n",
              "    <tr>\n",
              "      <th>2</th>\n",
              "      <td>0</td>\n",
              "      <td>0</td>\n",
              "      <td>Chelsea</td>\n",
              "      <td>824</td>\n",
              "      <td>931</td>\n",
              "      <td>-40552.380508</td>\n",
              "      <td>22323.029690</td>\n",
              "      <td>-40540.693893</td>\n",
              "      <td>22325.687031</td>\n",
              "      <td>370383</td>\n",
              "      <td>1928.0</td>\n",
              "      <td>1928.0</td>\n",
              "      <td>0.0</td>\n",
              "      <td>88.0</td>\n",
              "      <td>1320.830519</td>\n",
              "    </tr>\n",
              "    <tr>\n",
              "      <th>3</th>\n",
              "      <td>0</td>\n",
              "      <td>0</td>\n",
              "      <td>Downtown</td>\n",
              "      <td>388</td>\n",
              "      <td>388</td>\n",
              "      <td>-19464.117607</td>\n",
              "      <td>10711.390091</td>\n",
              "      <td>-19457.142517</td>\n",
              "      <td>10712.854458</td>\n",
              "      <td>201415</td>\n",
              "      <td>938.0</td>\n",
              "      <td>938.0</td>\n",
              "      <td>0.0</td>\n",
              "      <td>52.0</td>\n",
              "      <td>698.722312</td>\n",
              "    </tr>\n",
              "    <tr>\n",
              "      <th>4</th>\n",
              "      <td>0</td>\n",
              "      <td>0</td>\n",
              "      <td>East Village</td>\n",
              "      <td>438</td>\n",
              "      <td>508</td>\n",
              "      <td>-20715.849503</td>\n",
              "      <td>11408.990383</td>\n",
              "      <td>-20712.859337</td>\n",
              "      <td>11410.324097</td>\n",
              "      <td>176114</td>\n",
              "      <td>944.0</td>\n",
              "      <td>944.0</td>\n",
              "      <td>0.0</td>\n",
              "      <td>34.0</td>\n",
              "      <td>597.155783</td>\n",
              "    </tr>\n",
              "    <tr>\n",
              "      <th>...</th>\n",
              "      <td>...</td>\n",
              "      <td>...</td>\n",
              "      <td>...</td>\n",
              "      <td>...</td>\n",
              "      <td>...</td>\n",
              "      <td>...</td>\n",
              "      <td>...</td>\n",
              "      <td>...</td>\n",
              "      <td>...</td>\n",
              "      <td>...</td>\n",
              "      <td>...</td>\n",
              "      <td>...</td>\n",
              "      <td>...</td>\n",
              "      <td>...</td>\n",
              "      <td>...</td>\n",
              "    </tr>\n",
              "    <tr>\n",
              "      <th>2512</th>\n",
              "      <td>6</td>\n",
              "      <td>23</td>\n",
              "      <td>Midtown-North-West</td>\n",
              "      <td>1147</td>\n",
              "      <td>1216</td>\n",
              "      <td>-54967.832603</td>\n",
              "      <td>30279.308830</td>\n",
              "      <td>-54963.160072</td>\n",
              "      <td>30279.267166</td>\n",
              "      <td>454898</td>\n",
              "      <td>2663.0</td>\n",
              "      <td>2666.0</td>\n",
              "      <td>3750.0</td>\n",
              "      <td>14375.0</td>\n",
              "      <td>1400.328253</td>\n",
              "    </tr>\n",
              "    <tr>\n",
              "      <th>2513</th>\n",
              "      <td>6</td>\n",
              "      <td>23</td>\n",
              "      <td>Queens</td>\n",
              "      <td>13</td>\n",
              "      <td>15</td>\n",
              "      <td>-590.644264</td>\n",
              "      <td>326.149170</td>\n",
              "      <td>-591.169632</td>\n",
              "      <td>326.270634</td>\n",
              "      <td>9126</td>\n",
              "      <td>33.0</td>\n",
              "      <td>33.0</td>\n",
              "      <td>42.0</td>\n",
              "      <td>161.0</td>\n",
              "      <td>40.628441</td>\n",
              "    </tr>\n",
              "    <tr>\n",
              "      <th>2514</th>\n",
              "      <td>6</td>\n",
              "      <td>23</td>\n",
              "      <td>Queens-Astoria</td>\n",
              "      <td>123</td>\n",
              "      <td>134</td>\n",
              "      <td>-6283.169968</td>\n",
              "      <td>3464.006573</td>\n",
              "      <td>-6283.275055</td>\n",
              "      <td>3462.978809</td>\n",
              "      <td>60743</td>\n",
              "      <td>306.0</td>\n",
              "      <td>306.0</td>\n",
              "      <td>408.0</td>\n",
              "      <td>1564.0</td>\n",
              "      <td>187.315690</td>\n",
              "    </tr>\n",
              "    <tr>\n",
              "      <th>2515</th>\n",
              "      <td>6</td>\n",
              "      <td>23</td>\n",
              "      <td>Upper East Side</td>\n",
              "      <td>714</td>\n",
              "      <td>775</td>\n",
              "      <td>-34537.986916</td>\n",
              "      <td>19037.352352</td>\n",
              "      <td>-34538.630661</td>\n",
              "      <td>19034.504768</td>\n",
              "      <td>288030</td>\n",
              "      <td>1616.0</td>\n",
              "      <td>1618.0</td>\n",
              "      <td>2442.0</td>\n",
              "      <td>9361.0</td>\n",
              "      <td>960.752803</td>\n",
              "    </tr>\n",
              "    <tr>\n",
              "      <th>2516</th>\n",
              "      <td>6</td>\n",
              "      <td>23</td>\n",
              "      <td>Upper West Side</td>\n",
              "      <td>645</td>\n",
              "      <td>697</td>\n",
              "      <td>-30404.007889</td>\n",
              "      <td>16751.543022</td>\n",
              "      <td>-30402.617157</td>\n",
              "      <td>16750.482834</td>\n",
              "      <td>250993</td>\n",
              "      <td>1439.0</td>\n",
              "      <td>1441.0</td>\n",
              "      <td>2100.0</td>\n",
              "      <td>8050.0</td>\n",
              "      <td>812.812871</td>\n",
              "    </tr>\n",
              "  </tbody>\n",
              "</table>\n",
              "<p>2517 rows × 15 columns</p>\n",
              "</div>"
            ],
            "text/plain": [
              "      dow_pickup  hh_pickup  ... hh_dropoff  distance_miles\n",
              "0              0          0  ...       29.0      423.604326\n",
              "1              0          0  ...       10.0      190.700155\n",
              "2              0          0  ...       88.0     1320.830519\n",
              "3              0          0  ...       52.0      698.722312\n",
              "4              0          0  ...       34.0      597.155783\n",
              "...          ...        ...  ...        ...             ...\n",
              "2512           6         23  ...    14375.0     1400.328253\n",
              "2513           6         23  ...      161.0       40.628441\n",
              "2514           6         23  ...     1564.0      187.315690\n",
              "2515           6         23  ...     9361.0      960.752803\n",
              "2516           6         23  ...     8050.0      812.812871\n",
              "\n",
              "[2517 rows x 15 columns]"
            ]
          },
          "metadata": {
            "tags": []
          },
          "execution_count": 44
        }
      ]
    },
    {
      "cell_type": "code",
      "metadata": {
        "id": "ZYCqzvucvson",
        "colab_type": "code",
        "colab": {}
      },
      "source": [
        "df_taxi[['hh_pickup','dow_pickup','pickup_neighborhood']].groupbu"
      ],
      "execution_count": 0,
      "outputs": []
    }
  ]
}